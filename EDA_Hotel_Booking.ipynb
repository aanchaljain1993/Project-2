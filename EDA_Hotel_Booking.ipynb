{
  "nbformat": 4,
  "nbformat_minor": 0,
  "metadata": {
    "colab": {
      "provenance": [],
      "authorship_tag": "ABX9TyMoO3JG7qXEf39LNdJs5mJN",
      "include_colab_link": true
    },
    "kernelspec": {
      "name": "python3",
      "display_name": "Python 3"
    },
    "language_info": {
      "name": "python"
    }
  },
  "cells": [
    {
      "cell_type": "markdown",
      "metadata": {
        "id": "view-in-github",
        "colab_type": "text"
      },
      "source": [
        "<a href=\"https://colab.research.google.com/github/aanchaljain1993/Project-2/blob/main/EDA_Hotel_Booking.ipynb\" target=\"_parent\"><img src=\"https://colab.research.google.com/assets/colab-badge.svg\" alt=\"Open In Colab\"/></a>"
      ]
    },
    {
      "cell_type": "markdown",
      "metadata": {
        "id": "vncDsAP0Gaoa"
      },
      "source": [
        "# **Project Name**    - Hotel Booking Analysis\n"
      ]
    },
    {
      "cell_type": "markdown",
      "metadata": {
        "id": "beRrZCGUAJYm"
      },
      "source": [
        "##### **Project Type**    - EDA\n",
        "##### **Contribution**    - Individual (Aanchal Jain)\n",
        "\n"
      ]
    },
    {
      "cell_type": "markdown",
      "metadata": {
        "id": "FJNUwmbgGyua"
      },
      "source": [
        "# **Project Summary -**"
      ]
    },
    {
      "cell_type": "markdown",
      "metadata": {
        "id": "w6K7xa23Elo4"
      },
      "source": [
        "# **GitHub Link -**https://github.com/aanchaljain1993/Project-2"
      ]
    },
    {
      "cell_type": "markdown",
      "metadata": {
        "id": "yQaldy8SH6Dl"
      },
      "source": [
        "# **Problem Statement**\n"
      ]
    },
    {
      "cell_type": "markdown",
      "metadata": {
        "id": "DpeJGUA3kjGy"
      },
      "source": [
        "Have you ever thought about when it's best to book a hotel room or how long to stay to get the best price? Maybe you've wondered if certain hotels get more special requests than others. Well, this dataset about hotel bookings can help answer those questions! It has information about bookings for both city and resort hotels, like when they were made, how long people stayed, and how many adults, children, or babies were there. You can explore the data to find out what factors affect hotel bookings the most."
      ]
    },
    {
      "cell_type": "markdown",
      "metadata": {
        "id": "PH-0ReGfmX4f"
      },
      "source": [
        "#### **Define Your Business Objective?**"
      ]
    },
    {
      "cell_type": "markdown",
      "metadata": {
        "id": "PhDvGCAqmjP1"
      },
      "source": [
        "Business objective is to understand and visualize dataset from hotel and customer point of view.\n",
        "\n",
        "1) Reasons for booking cancellations\n",
        "\n",
        "2)Best time to book hotel\n",
        "\n",
        "3)Peak season\n",
        "\n",
        "4) suggestions to reduce cancellations\n",
        "\n",
        "5) increase revenue of hotels.\n"
      ]
    },
    {
      "cell_type": "markdown",
      "metadata": {
        "id": "mDgbUHAGgjLW"
      },
      "source": [
        "# **General Guidelines** : -  "
      ]
    },
    {
      "cell_type": "markdown",
      "metadata": {
        "id": "ZrxVaUj-hHfC"
      },
      "source": [
        "1.   Well-structured, formatted, and commented code is required.\n",
        "2.   Exception Handling, Production Grade Code & Deployment Ready Code will be a plus. Those students will be awarded some additional credits.\n",
        "     \n",
        "     The additional credits will have advantages over other students during Star Student selection.\n",
        "       \n",
        "             [ Note: - Deployment Ready Code is defined as, the whole .ipynb notebook should be executable in one go\n",
        "                       without a single error logged. ]\n",
        "\n",
        "3.   Each and every logic should have proper comments.\n",
        "4. You may add as many number of charts you want. Make Sure for each and every chart the following format should be answered.\n",
        "        \n",
        "\n",
        "```\n",
        "# Chart visualization code\n",
        "```\n",
        "            \n",
        "\n",
        "*   Why did you pick the specific chart?\n",
        "*   What is/are the insight(s) found from the chart?\n",
        "* Will the gained insights help creating a positive business impact?\n",
        "Are there any insights that lead to negative growth? Justify with specific reason.\n",
        "\n",
        "5. You have to create at least 20 logical & meaningful charts having important insights.\n",
        "\n",
        "\n",
        "[ Hints : - Do the Vizualization in  a structured way while following \"UBM\" Rule.\n",
        "\n",
        "U - Univariate Analysis,\n",
        "\n",
        "B - Bivariate Analysis (Numerical - Categorical, Numerical - Numerical, Categorical - Categorical)\n",
        "\n",
        "M - Multivariate Analysis\n",
        " ]\n",
        "\n",
        "\n",
        "\n"
      ]
    },
    {
      "cell_type": "markdown",
      "metadata": {
        "id": "O_i_v8NEhb9l"
      },
      "source": [
        "# ***Let's Begin !***"
      ]
    },
    {
      "cell_type": "markdown",
      "metadata": {
        "id": "HhfV-JJviCcP"
      },
      "source": [
        "## ***1. Know Your Data***"
      ]
    },
    {
      "cell_type": "markdown",
      "metadata": {
        "id": "Y3lxredqlCYt"
      },
      "source": [
        "### Import Libraries"
      ]
    },
    {
      "cell_type": "code",
      "execution_count": 2,
      "metadata": {
        "id": "M8Vqi-pPk-HR"
      },
      "outputs": [],
      "source": [
        "# Import data analysis Libraries\n",
        "import numpy as np\n",
        "import pandas as pd\n",
        "\n",
        "# for visualisation\n",
        "import seaborn as sns\n",
        "import matplotlib.pyplot as plt\n",
        "%matplotlib inline\n",
        "\n",
        "# for plotting\n",
        "import plotly.express as px\n",
        "\n",
        "# some additional libraries\n",
        "from scipy.stats import zscore\n",
        "import warnings\n",
        "warnings.filterwarnings('ignore')"
      ]
    },
    {
      "cell_type": "code",
      "execution_count": 3,
      "metadata": {
        "colab": {
          "base_uri": "https://localhost:8080/"
        },
        "id": "igploRwvKKWG",
        "outputId": "90f4f437-c7c9-49e5-c827-4ff0f2d152e2"
      },
      "outputs": [
        {
          "output_type": "stream",
          "name": "stdout",
          "text": [
            "Mounted at /content/drive\n"
          ]
        }
      ],
      "source": [
        "# mount google drive\n",
        "\n",
        "from google.colab import drive\n",
        "drive.mount('/content/drive')"
      ]
    },
    {
      "cell_type": "markdown",
      "metadata": {
        "id": "3RnN4peoiCZX"
      },
      "source": [
        "### Dataset Loading"
      ]
    },
    {
      "cell_type": "code",
      "execution_count": 4,
      "metadata": {
        "id": "4CkvbW_SlZ_R"
      },
      "outputs": [],
      "source": [
        "# Load Dataset\n",
        "hotel_booking_df = pd.read_csv('/content/drive/MyDrive/almabetter project/Hotel Bookings (1).csv')"
      ]
    },
    {
      "cell_type": "markdown",
      "metadata": {
        "id": "x71ZqKXriCWQ"
      },
      "source": [
        "### Dataset First View"
      ]
    },
    {
      "cell_type": "code",
      "execution_count": 5,
      "metadata": {
        "colab": {
          "base_uri": "https://localhost:8080/",
          "height": 342
        },
        "id": "sPyAdYH3Kglr",
        "outputId": "66af7168-881b-444f-d7d6-a517e5dc4c03"
      },
      "outputs": [
        {
          "output_type": "execute_result",
          "data": {
            "text/plain": [
              "          hotel  is_canceled  lead_time  arrival_date_year arrival_date_month  \\\n",
              "0  Resort Hotel            0        342               2015               July   \n",
              "1  Resort Hotel            0        737               2015               July   \n",
              "2  Resort Hotel            0          7               2015               July   \n",
              "3  Resort Hotel            0         13               2015               July   \n",
              "4  Resort Hotel            0         14               2015               July   \n",
              "\n",
              "   arrival_date_week_number  arrival_date_day_of_month  \\\n",
              "0                        27                          1   \n",
              "1                        27                          1   \n",
              "2                        27                          1   \n",
              "3                        27                          1   \n",
              "4                        27                          1   \n",
              "\n",
              "   stays_in_weekend_nights  stays_in_week_nights  adults  ...  deposit_type  \\\n",
              "0                        0                     0       2  ...    No Deposit   \n",
              "1                        0                     0       2  ...    No Deposit   \n",
              "2                        0                     1       1  ...    No Deposit   \n",
              "3                        0                     1       1  ...    No Deposit   \n",
              "4                        0                     2       2  ...    No Deposit   \n",
              "\n",
              "   agent company days_in_waiting_list customer_type   adr  \\\n",
              "0    NaN     NaN                    0     Transient   0.0   \n",
              "1    NaN     NaN                    0     Transient   0.0   \n",
              "2    NaN     NaN                    0     Transient  75.0   \n",
              "3  304.0     NaN                    0     Transient  75.0   \n",
              "4  240.0     NaN                    0     Transient  98.0   \n",
              "\n",
              "   required_car_parking_spaces  total_of_special_requests  reservation_status  \\\n",
              "0                            0                          0           Check-Out   \n",
              "1                            0                          0           Check-Out   \n",
              "2                            0                          0           Check-Out   \n",
              "3                            0                          0           Check-Out   \n",
              "4                            0                          1           Check-Out   \n",
              "\n",
              "  reservation_status_date  \n",
              "0              2015-07-01  \n",
              "1              2015-07-01  \n",
              "2              2015-07-02  \n",
              "3              2015-07-02  \n",
              "4              2015-07-03  \n",
              "\n",
              "[5 rows x 32 columns]"
            ],
            "text/html": [
              "\n",
              "  <div id=\"df-17697b27-823c-449d-bceb-9706a223c058\" class=\"colab-df-container\">\n",
              "    <div>\n",
              "<style scoped>\n",
              "    .dataframe tbody tr th:only-of-type {\n",
              "        vertical-align: middle;\n",
              "    }\n",
              "\n",
              "    .dataframe tbody tr th {\n",
              "        vertical-align: top;\n",
              "    }\n",
              "\n",
              "    .dataframe thead th {\n",
              "        text-align: right;\n",
              "    }\n",
              "</style>\n",
              "<table border=\"1\" class=\"dataframe\">\n",
              "  <thead>\n",
              "    <tr style=\"text-align: right;\">\n",
              "      <th></th>\n",
              "      <th>hotel</th>\n",
              "      <th>is_canceled</th>\n",
              "      <th>lead_time</th>\n",
              "      <th>arrival_date_year</th>\n",
              "      <th>arrival_date_month</th>\n",
              "      <th>arrival_date_week_number</th>\n",
              "      <th>arrival_date_day_of_month</th>\n",
              "      <th>stays_in_weekend_nights</th>\n",
              "      <th>stays_in_week_nights</th>\n",
              "      <th>adults</th>\n",
              "      <th>...</th>\n",
              "      <th>deposit_type</th>\n",
              "      <th>agent</th>\n",
              "      <th>company</th>\n",
              "      <th>days_in_waiting_list</th>\n",
              "      <th>customer_type</th>\n",
              "      <th>adr</th>\n",
              "      <th>required_car_parking_spaces</th>\n",
              "      <th>total_of_special_requests</th>\n",
              "      <th>reservation_status</th>\n",
              "      <th>reservation_status_date</th>\n",
              "    </tr>\n",
              "  </thead>\n",
              "  <tbody>\n",
              "    <tr>\n",
              "      <th>0</th>\n",
              "      <td>Resort Hotel</td>\n",
              "      <td>0</td>\n",
              "      <td>342</td>\n",
              "      <td>2015</td>\n",
              "      <td>July</td>\n",
              "      <td>27</td>\n",
              "      <td>1</td>\n",
              "      <td>0</td>\n",
              "      <td>0</td>\n",
              "      <td>2</td>\n",
              "      <td>...</td>\n",
              "      <td>No Deposit</td>\n",
              "      <td>NaN</td>\n",
              "      <td>NaN</td>\n",
              "      <td>0</td>\n",
              "      <td>Transient</td>\n",
              "      <td>0.0</td>\n",
              "      <td>0</td>\n",
              "      <td>0</td>\n",
              "      <td>Check-Out</td>\n",
              "      <td>2015-07-01</td>\n",
              "    </tr>\n",
              "    <tr>\n",
              "      <th>1</th>\n",
              "      <td>Resort Hotel</td>\n",
              "      <td>0</td>\n",
              "      <td>737</td>\n",
              "      <td>2015</td>\n",
              "      <td>July</td>\n",
              "      <td>27</td>\n",
              "      <td>1</td>\n",
              "      <td>0</td>\n",
              "      <td>0</td>\n",
              "      <td>2</td>\n",
              "      <td>...</td>\n",
              "      <td>No Deposit</td>\n",
              "      <td>NaN</td>\n",
              "      <td>NaN</td>\n",
              "      <td>0</td>\n",
              "      <td>Transient</td>\n",
              "      <td>0.0</td>\n",
              "      <td>0</td>\n",
              "      <td>0</td>\n",
              "      <td>Check-Out</td>\n",
              "      <td>2015-07-01</td>\n",
              "    </tr>\n",
              "    <tr>\n",
              "      <th>2</th>\n",
              "      <td>Resort Hotel</td>\n",
              "      <td>0</td>\n",
              "      <td>7</td>\n",
              "      <td>2015</td>\n",
              "      <td>July</td>\n",
              "      <td>27</td>\n",
              "      <td>1</td>\n",
              "      <td>0</td>\n",
              "      <td>1</td>\n",
              "      <td>1</td>\n",
              "      <td>...</td>\n",
              "      <td>No Deposit</td>\n",
              "      <td>NaN</td>\n",
              "      <td>NaN</td>\n",
              "      <td>0</td>\n",
              "      <td>Transient</td>\n",
              "      <td>75.0</td>\n",
              "      <td>0</td>\n",
              "      <td>0</td>\n",
              "      <td>Check-Out</td>\n",
              "      <td>2015-07-02</td>\n",
              "    </tr>\n",
              "    <tr>\n",
              "      <th>3</th>\n",
              "      <td>Resort Hotel</td>\n",
              "      <td>0</td>\n",
              "      <td>13</td>\n",
              "      <td>2015</td>\n",
              "      <td>July</td>\n",
              "      <td>27</td>\n",
              "      <td>1</td>\n",
              "      <td>0</td>\n",
              "      <td>1</td>\n",
              "      <td>1</td>\n",
              "      <td>...</td>\n",
              "      <td>No Deposit</td>\n",
              "      <td>304.0</td>\n",
              "      <td>NaN</td>\n",
              "      <td>0</td>\n",
              "      <td>Transient</td>\n",
              "      <td>75.0</td>\n",
              "      <td>0</td>\n",
              "      <td>0</td>\n",
              "      <td>Check-Out</td>\n",
              "      <td>2015-07-02</td>\n",
              "    </tr>\n",
              "    <tr>\n",
              "      <th>4</th>\n",
              "      <td>Resort Hotel</td>\n",
              "      <td>0</td>\n",
              "      <td>14</td>\n",
              "      <td>2015</td>\n",
              "      <td>July</td>\n",
              "      <td>27</td>\n",
              "      <td>1</td>\n",
              "      <td>0</td>\n",
              "      <td>2</td>\n",
              "      <td>2</td>\n",
              "      <td>...</td>\n",
              "      <td>No Deposit</td>\n",
              "      <td>240.0</td>\n",
              "      <td>NaN</td>\n",
              "      <td>0</td>\n",
              "      <td>Transient</td>\n",
              "      <td>98.0</td>\n",
              "      <td>0</td>\n",
              "      <td>1</td>\n",
              "      <td>Check-Out</td>\n",
              "      <td>2015-07-03</td>\n",
              "    </tr>\n",
              "  </tbody>\n",
              "</table>\n",
              "<p>5 rows × 32 columns</p>\n",
              "</div>\n",
              "    <div class=\"colab-df-buttons\">\n",
              "\n",
              "  <div class=\"colab-df-container\">\n",
              "    <button class=\"colab-df-convert\" onclick=\"convertToInteractive('df-17697b27-823c-449d-bceb-9706a223c058')\"\n",
              "            title=\"Convert this dataframe to an interactive table.\"\n",
              "            style=\"display:none;\">\n",
              "\n",
              "  <svg xmlns=\"http://www.w3.org/2000/svg\" height=\"24px\" viewBox=\"0 -960 960 960\">\n",
              "    <path d=\"M120-120v-720h720v720H120Zm60-500h600v-160H180v160Zm220 220h160v-160H400v160Zm0 220h160v-160H400v160ZM180-400h160v-160H180v160Zm440 0h160v-160H620v160ZM180-180h160v-160H180v160Zm440 0h160v-160H620v160Z\"/>\n",
              "  </svg>\n",
              "    </button>\n",
              "\n",
              "  <style>\n",
              "    .colab-df-container {\n",
              "      display:flex;\n",
              "      gap: 12px;\n",
              "    }\n",
              "\n",
              "    .colab-df-convert {\n",
              "      background-color: #E8F0FE;\n",
              "      border: none;\n",
              "      border-radius: 50%;\n",
              "      cursor: pointer;\n",
              "      display: none;\n",
              "      fill: #1967D2;\n",
              "      height: 32px;\n",
              "      padding: 0 0 0 0;\n",
              "      width: 32px;\n",
              "    }\n",
              "\n",
              "    .colab-df-convert:hover {\n",
              "      background-color: #E2EBFA;\n",
              "      box-shadow: 0px 1px 2px rgba(60, 64, 67, 0.3), 0px 1px 3px 1px rgba(60, 64, 67, 0.15);\n",
              "      fill: #174EA6;\n",
              "    }\n",
              "\n",
              "    .colab-df-buttons div {\n",
              "      margin-bottom: 4px;\n",
              "    }\n",
              "\n",
              "    [theme=dark] .colab-df-convert {\n",
              "      background-color: #3B4455;\n",
              "      fill: #D2E3FC;\n",
              "    }\n",
              "\n",
              "    [theme=dark] .colab-df-convert:hover {\n",
              "      background-color: #434B5C;\n",
              "      box-shadow: 0px 1px 3px 1px rgba(0, 0, 0, 0.15);\n",
              "      filter: drop-shadow(0px 1px 2px rgba(0, 0, 0, 0.3));\n",
              "      fill: #FFFFFF;\n",
              "    }\n",
              "  </style>\n",
              "\n",
              "    <script>\n",
              "      const buttonEl =\n",
              "        document.querySelector('#df-17697b27-823c-449d-bceb-9706a223c058 button.colab-df-convert');\n",
              "      buttonEl.style.display =\n",
              "        google.colab.kernel.accessAllowed ? 'block' : 'none';\n",
              "\n",
              "      async function convertToInteractive(key) {\n",
              "        const element = document.querySelector('#df-17697b27-823c-449d-bceb-9706a223c058');\n",
              "        const dataTable =\n",
              "          await google.colab.kernel.invokeFunction('convertToInteractive',\n",
              "                                                    [key], {});\n",
              "        if (!dataTable) return;\n",
              "\n",
              "        const docLinkHtml = 'Like what you see? Visit the ' +\n",
              "          '<a target=\"_blank\" href=https://colab.research.google.com/notebooks/data_table.ipynb>data table notebook</a>'\n",
              "          + ' to learn more about interactive tables.';\n",
              "        element.innerHTML = '';\n",
              "        dataTable['output_type'] = 'display_data';\n",
              "        await google.colab.output.renderOutput(dataTable, element);\n",
              "        const docLink = document.createElement('div');\n",
              "        docLink.innerHTML = docLinkHtml;\n",
              "        element.appendChild(docLink);\n",
              "      }\n",
              "    </script>\n",
              "  </div>\n",
              "\n",
              "\n",
              "<div id=\"df-2a81232d-e26e-4bab-aa4b-7b9cfdf8de9c\">\n",
              "  <button class=\"colab-df-quickchart\" onclick=\"quickchart('df-2a81232d-e26e-4bab-aa4b-7b9cfdf8de9c')\"\n",
              "            title=\"Suggest charts\"\n",
              "            style=\"display:none;\">\n",
              "\n",
              "<svg xmlns=\"http://www.w3.org/2000/svg\" height=\"24px\"viewBox=\"0 0 24 24\"\n",
              "     width=\"24px\">\n",
              "    <g>\n",
              "        <path d=\"M19 3H5c-1.1 0-2 .9-2 2v14c0 1.1.9 2 2 2h14c1.1 0 2-.9 2-2V5c0-1.1-.9-2-2-2zM9 17H7v-7h2v7zm4 0h-2V7h2v10zm4 0h-2v-4h2v4z\"/>\n",
              "    </g>\n",
              "</svg>\n",
              "  </button>\n",
              "\n",
              "<style>\n",
              "  .colab-df-quickchart {\n",
              "      --bg-color: #E8F0FE;\n",
              "      --fill-color: #1967D2;\n",
              "      --hover-bg-color: #E2EBFA;\n",
              "      --hover-fill-color: #174EA6;\n",
              "      --disabled-fill-color: #AAA;\n",
              "      --disabled-bg-color: #DDD;\n",
              "  }\n",
              "\n",
              "  [theme=dark] .colab-df-quickchart {\n",
              "      --bg-color: #3B4455;\n",
              "      --fill-color: #D2E3FC;\n",
              "      --hover-bg-color: #434B5C;\n",
              "      --hover-fill-color: #FFFFFF;\n",
              "      --disabled-bg-color: #3B4455;\n",
              "      --disabled-fill-color: #666;\n",
              "  }\n",
              "\n",
              "  .colab-df-quickchart {\n",
              "    background-color: var(--bg-color);\n",
              "    border: none;\n",
              "    border-radius: 50%;\n",
              "    cursor: pointer;\n",
              "    display: none;\n",
              "    fill: var(--fill-color);\n",
              "    height: 32px;\n",
              "    padding: 0;\n",
              "    width: 32px;\n",
              "  }\n",
              "\n",
              "  .colab-df-quickchart:hover {\n",
              "    background-color: var(--hover-bg-color);\n",
              "    box-shadow: 0 1px 2px rgba(60, 64, 67, 0.3), 0 1px 3px 1px rgba(60, 64, 67, 0.15);\n",
              "    fill: var(--button-hover-fill-color);\n",
              "  }\n",
              "\n",
              "  .colab-df-quickchart-complete:disabled,\n",
              "  .colab-df-quickchart-complete:disabled:hover {\n",
              "    background-color: var(--disabled-bg-color);\n",
              "    fill: var(--disabled-fill-color);\n",
              "    box-shadow: none;\n",
              "  }\n",
              "\n",
              "  .colab-df-spinner {\n",
              "    border: 2px solid var(--fill-color);\n",
              "    border-color: transparent;\n",
              "    border-bottom-color: var(--fill-color);\n",
              "    animation:\n",
              "      spin 1s steps(1) infinite;\n",
              "  }\n",
              "\n",
              "  @keyframes spin {\n",
              "    0% {\n",
              "      border-color: transparent;\n",
              "      border-bottom-color: var(--fill-color);\n",
              "      border-left-color: var(--fill-color);\n",
              "    }\n",
              "    20% {\n",
              "      border-color: transparent;\n",
              "      border-left-color: var(--fill-color);\n",
              "      border-top-color: var(--fill-color);\n",
              "    }\n",
              "    30% {\n",
              "      border-color: transparent;\n",
              "      border-left-color: var(--fill-color);\n",
              "      border-top-color: var(--fill-color);\n",
              "      border-right-color: var(--fill-color);\n",
              "    }\n",
              "    40% {\n",
              "      border-color: transparent;\n",
              "      border-right-color: var(--fill-color);\n",
              "      border-top-color: var(--fill-color);\n",
              "    }\n",
              "    60% {\n",
              "      border-color: transparent;\n",
              "      border-right-color: var(--fill-color);\n",
              "    }\n",
              "    80% {\n",
              "      border-color: transparent;\n",
              "      border-right-color: var(--fill-color);\n",
              "      border-bottom-color: var(--fill-color);\n",
              "    }\n",
              "    90% {\n",
              "      border-color: transparent;\n",
              "      border-bottom-color: var(--fill-color);\n",
              "    }\n",
              "  }\n",
              "</style>\n",
              "\n",
              "  <script>\n",
              "    async function quickchart(key) {\n",
              "      const quickchartButtonEl =\n",
              "        document.querySelector('#' + key + ' button');\n",
              "      quickchartButtonEl.disabled = true;  // To prevent multiple clicks.\n",
              "      quickchartButtonEl.classList.add('colab-df-spinner');\n",
              "      try {\n",
              "        const charts = await google.colab.kernel.invokeFunction(\n",
              "            'suggestCharts', [key], {});\n",
              "      } catch (error) {\n",
              "        console.error('Error during call to suggestCharts:', error);\n",
              "      }\n",
              "      quickchartButtonEl.classList.remove('colab-df-spinner');\n",
              "      quickchartButtonEl.classList.add('colab-df-quickchart-complete');\n",
              "    }\n",
              "    (() => {\n",
              "      let quickchartButtonEl =\n",
              "        document.querySelector('#df-2a81232d-e26e-4bab-aa4b-7b9cfdf8de9c button');\n",
              "      quickchartButtonEl.style.display =\n",
              "        google.colab.kernel.accessAllowed ? 'block' : 'none';\n",
              "    })();\n",
              "  </script>\n",
              "</div>\n",
              "\n",
              "    </div>\n",
              "  </div>\n"
            ],
            "application/vnd.google.colaboratory.intrinsic+json": {
              "type": "dataframe",
              "variable_name": "hotel_booking_df"
            }
          },
          "metadata": {},
          "execution_count": 5
        }
      ],
      "source": [
        "# first 5 rows of the datset\n",
        "hotel_booking_df.head()"
      ]
    },
    {
      "cell_type": "code",
      "execution_count": 6,
      "metadata": {
        "colab": {
          "base_uri": "https://localhost:8080/",
          "height": 342
        },
        "id": "s2RJuPYFKghf",
        "outputId": "7ecf861f-f8ca-414f-f165-577130f5899a"
      },
      "outputs": [
        {
          "output_type": "execute_result",
          "data": {
            "text/plain": [
              "             hotel  is_canceled  lead_time  arrival_date_year  \\\n",
              "119385  City Hotel            0         23               2017   \n",
              "119386  City Hotel            0        102               2017   \n",
              "119387  City Hotel            0         34               2017   \n",
              "119388  City Hotel            0        109               2017   \n",
              "119389  City Hotel            0        205               2017   \n",
              "\n",
              "       arrival_date_month  arrival_date_week_number  \\\n",
              "119385             August                        35   \n",
              "119386             August                        35   \n",
              "119387             August                        35   \n",
              "119388             August                        35   \n",
              "119389             August                        35   \n",
              "\n",
              "        arrival_date_day_of_month  stays_in_weekend_nights  \\\n",
              "119385                         30                        2   \n",
              "119386                         31                        2   \n",
              "119387                         31                        2   \n",
              "119388                         31                        2   \n",
              "119389                         29                        2   \n",
              "\n",
              "        stays_in_week_nights  adults  ...  deposit_type  agent company  \\\n",
              "119385                     5       2  ...    No Deposit  394.0     NaN   \n",
              "119386                     5       3  ...    No Deposit    9.0     NaN   \n",
              "119387                     5       2  ...    No Deposit    9.0     NaN   \n",
              "119388                     5       2  ...    No Deposit   89.0     NaN   \n",
              "119389                     7       2  ...    No Deposit    9.0     NaN   \n",
              "\n",
              "       days_in_waiting_list customer_type     adr  \\\n",
              "119385                    0     Transient   96.14   \n",
              "119386                    0     Transient  225.43   \n",
              "119387                    0     Transient  157.71   \n",
              "119388                    0     Transient  104.40   \n",
              "119389                    0     Transient  151.20   \n",
              "\n",
              "        required_car_parking_spaces  total_of_special_requests  \\\n",
              "119385                            0                          0   \n",
              "119386                            0                          2   \n",
              "119387                            0                          4   \n",
              "119388                            0                          0   \n",
              "119389                            0                          2   \n",
              "\n",
              "        reservation_status reservation_status_date  \n",
              "119385           Check-Out              2017-09-06  \n",
              "119386           Check-Out              2017-09-07  \n",
              "119387           Check-Out              2017-09-07  \n",
              "119388           Check-Out              2017-09-07  \n",
              "119389           Check-Out              2017-09-07  \n",
              "\n",
              "[5 rows x 32 columns]"
            ],
            "text/html": [
              "\n",
              "  <div id=\"df-a87b0b67-ac86-414b-8748-cfac9a7b0395\" class=\"colab-df-container\">\n",
              "    <div>\n",
              "<style scoped>\n",
              "    .dataframe tbody tr th:only-of-type {\n",
              "        vertical-align: middle;\n",
              "    }\n",
              "\n",
              "    .dataframe tbody tr th {\n",
              "        vertical-align: top;\n",
              "    }\n",
              "\n",
              "    .dataframe thead th {\n",
              "        text-align: right;\n",
              "    }\n",
              "</style>\n",
              "<table border=\"1\" class=\"dataframe\">\n",
              "  <thead>\n",
              "    <tr style=\"text-align: right;\">\n",
              "      <th></th>\n",
              "      <th>hotel</th>\n",
              "      <th>is_canceled</th>\n",
              "      <th>lead_time</th>\n",
              "      <th>arrival_date_year</th>\n",
              "      <th>arrival_date_month</th>\n",
              "      <th>arrival_date_week_number</th>\n",
              "      <th>arrival_date_day_of_month</th>\n",
              "      <th>stays_in_weekend_nights</th>\n",
              "      <th>stays_in_week_nights</th>\n",
              "      <th>adults</th>\n",
              "      <th>...</th>\n",
              "      <th>deposit_type</th>\n",
              "      <th>agent</th>\n",
              "      <th>company</th>\n",
              "      <th>days_in_waiting_list</th>\n",
              "      <th>customer_type</th>\n",
              "      <th>adr</th>\n",
              "      <th>required_car_parking_spaces</th>\n",
              "      <th>total_of_special_requests</th>\n",
              "      <th>reservation_status</th>\n",
              "      <th>reservation_status_date</th>\n",
              "    </tr>\n",
              "  </thead>\n",
              "  <tbody>\n",
              "    <tr>\n",
              "      <th>119385</th>\n",
              "      <td>City Hotel</td>\n",
              "      <td>0</td>\n",
              "      <td>23</td>\n",
              "      <td>2017</td>\n",
              "      <td>August</td>\n",
              "      <td>35</td>\n",
              "      <td>30</td>\n",
              "      <td>2</td>\n",
              "      <td>5</td>\n",
              "      <td>2</td>\n",
              "      <td>...</td>\n",
              "      <td>No Deposit</td>\n",
              "      <td>394.0</td>\n",
              "      <td>NaN</td>\n",
              "      <td>0</td>\n",
              "      <td>Transient</td>\n",
              "      <td>96.14</td>\n",
              "      <td>0</td>\n",
              "      <td>0</td>\n",
              "      <td>Check-Out</td>\n",
              "      <td>2017-09-06</td>\n",
              "    </tr>\n",
              "    <tr>\n",
              "      <th>119386</th>\n",
              "      <td>City Hotel</td>\n",
              "      <td>0</td>\n",
              "      <td>102</td>\n",
              "      <td>2017</td>\n",
              "      <td>August</td>\n",
              "      <td>35</td>\n",
              "      <td>31</td>\n",
              "      <td>2</td>\n",
              "      <td>5</td>\n",
              "      <td>3</td>\n",
              "      <td>...</td>\n",
              "      <td>No Deposit</td>\n",
              "      <td>9.0</td>\n",
              "      <td>NaN</td>\n",
              "      <td>0</td>\n",
              "      <td>Transient</td>\n",
              "      <td>225.43</td>\n",
              "      <td>0</td>\n",
              "      <td>2</td>\n",
              "      <td>Check-Out</td>\n",
              "      <td>2017-09-07</td>\n",
              "    </tr>\n",
              "    <tr>\n",
              "      <th>119387</th>\n",
              "      <td>City Hotel</td>\n",
              "      <td>0</td>\n",
              "      <td>34</td>\n",
              "      <td>2017</td>\n",
              "      <td>August</td>\n",
              "      <td>35</td>\n",
              "      <td>31</td>\n",
              "      <td>2</td>\n",
              "      <td>5</td>\n",
              "      <td>2</td>\n",
              "      <td>...</td>\n",
              "      <td>No Deposit</td>\n",
              "      <td>9.0</td>\n",
              "      <td>NaN</td>\n",
              "      <td>0</td>\n",
              "      <td>Transient</td>\n",
              "      <td>157.71</td>\n",
              "      <td>0</td>\n",
              "      <td>4</td>\n",
              "      <td>Check-Out</td>\n",
              "      <td>2017-09-07</td>\n",
              "    </tr>\n",
              "    <tr>\n",
              "      <th>119388</th>\n",
              "      <td>City Hotel</td>\n",
              "      <td>0</td>\n",
              "      <td>109</td>\n",
              "      <td>2017</td>\n",
              "      <td>August</td>\n",
              "      <td>35</td>\n",
              "      <td>31</td>\n",
              "      <td>2</td>\n",
              "      <td>5</td>\n",
              "      <td>2</td>\n",
              "      <td>...</td>\n",
              "      <td>No Deposit</td>\n",
              "      <td>89.0</td>\n",
              "      <td>NaN</td>\n",
              "      <td>0</td>\n",
              "      <td>Transient</td>\n",
              "      <td>104.40</td>\n",
              "      <td>0</td>\n",
              "      <td>0</td>\n",
              "      <td>Check-Out</td>\n",
              "      <td>2017-09-07</td>\n",
              "    </tr>\n",
              "    <tr>\n",
              "      <th>119389</th>\n",
              "      <td>City Hotel</td>\n",
              "      <td>0</td>\n",
              "      <td>205</td>\n",
              "      <td>2017</td>\n",
              "      <td>August</td>\n",
              "      <td>35</td>\n",
              "      <td>29</td>\n",
              "      <td>2</td>\n",
              "      <td>7</td>\n",
              "      <td>2</td>\n",
              "      <td>...</td>\n",
              "      <td>No Deposit</td>\n",
              "      <td>9.0</td>\n",
              "      <td>NaN</td>\n",
              "      <td>0</td>\n",
              "      <td>Transient</td>\n",
              "      <td>151.20</td>\n",
              "      <td>0</td>\n",
              "      <td>2</td>\n",
              "      <td>Check-Out</td>\n",
              "      <td>2017-09-07</td>\n",
              "    </tr>\n",
              "  </tbody>\n",
              "</table>\n",
              "<p>5 rows × 32 columns</p>\n",
              "</div>\n",
              "    <div class=\"colab-df-buttons\">\n",
              "\n",
              "  <div class=\"colab-df-container\">\n",
              "    <button class=\"colab-df-convert\" onclick=\"convertToInteractive('df-a87b0b67-ac86-414b-8748-cfac9a7b0395')\"\n",
              "            title=\"Convert this dataframe to an interactive table.\"\n",
              "            style=\"display:none;\">\n",
              "\n",
              "  <svg xmlns=\"http://www.w3.org/2000/svg\" height=\"24px\" viewBox=\"0 -960 960 960\">\n",
              "    <path d=\"M120-120v-720h720v720H120Zm60-500h600v-160H180v160Zm220 220h160v-160H400v160Zm0 220h160v-160H400v160ZM180-400h160v-160H180v160Zm440 0h160v-160H620v160ZM180-180h160v-160H180v160Zm440 0h160v-160H620v160Z\"/>\n",
              "  </svg>\n",
              "    </button>\n",
              "\n",
              "  <style>\n",
              "    .colab-df-container {\n",
              "      display:flex;\n",
              "      gap: 12px;\n",
              "    }\n",
              "\n",
              "    .colab-df-convert {\n",
              "      background-color: #E8F0FE;\n",
              "      border: none;\n",
              "      border-radius: 50%;\n",
              "      cursor: pointer;\n",
              "      display: none;\n",
              "      fill: #1967D2;\n",
              "      height: 32px;\n",
              "      padding: 0 0 0 0;\n",
              "      width: 32px;\n",
              "    }\n",
              "\n",
              "    .colab-df-convert:hover {\n",
              "      background-color: #E2EBFA;\n",
              "      box-shadow: 0px 1px 2px rgba(60, 64, 67, 0.3), 0px 1px 3px 1px rgba(60, 64, 67, 0.15);\n",
              "      fill: #174EA6;\n",
              "    }\n",
              "\n",
              "    .colab-df-buttons div {\n",
              "      margin-bottom: 4px;\n",
              "    }\n",
              "\n",
              "    [theme=dark] .colab-df-convert {\n",
              "      background-color: #3B4455;\n",
              "      fill: #D2E3FC;\n",
              "    }\n",
              "\n",
              "    [theme=dark] .colab-df-convert:hover {\n",
              "      background-color: #434B5C;\n",
              "      box-shadow: 0px 1px 3px 1px rgba(0, 0, 0, 0.15);\n",
              "      filter: drop-shadow(0px 1px 2px rgba(0, 0, 0, 0.3));\n",
              "      fill: #FFFFFF;\n",
              "    }\n",
              "  </style>\n",
              "\n",
              "    <script>\n",
              "      const buttonEl =\n",
              "        document.querySelector('#df-a87b0b67-ac86-414b-8748-cfac9a7b0395 button.colab-df-convert');\n",
              "      buttonEl.style.display =\n",
              "        google.colab.kernel.accessAllowed ? 'block' : 'none';\n",
              "\n",
              "      async function convertToInteractive(key) {\n",
              "        const element = document.querySelector('#df-a87b0b67-ac86-414b-8748-cfac9a7b0395');\n",
              "        const dataTable =\n",
              "          await google.colab.kernel.invokeFunction('convertToInteractive',\n",
              "                                                    [key], {});\n",
              "        if (!dataTable) return;\n",
              "\n",
              "        const docLinkHtml = 'Like what you see? Visit the ' +\n",
              "          '<a target=\"_blank\" href=https://colab.research.google.com/notebooks/data_table.ipynb>data table notebook</a>'\n",
              "          + ' to learn more about interactive tables.';\n",
              "        element.innerHTML = '';\n",
              "        dataTable['output_type'] = 'display_data';\n",
              "        await google.colab.output.renderOutput(dataTable, element);\n",
              "        const docLink = document.createElement('div');\n",
              "        docLink.innerHTML = docLinkHtml;\n",
              "        element.appendChild(docLink);\n",
              "      }\n",
              "    </script>\n",
              "  </div>\n",
              "\n",
              "\n",
              "<div id=\"df-39ab41ad-d06b-4cbe-8c65-7f2bb101e0b5\">\n",
              "  <button class=\"colab-df-quickchart\" onclick=\"quickchart('df-39ab41ad-d06b-4cbe-8c65-7f2bb101e0b5')\"\n",
              "            title=\"Suggest charts\"\n",
              "            style=\"display:none;\">\n",
              "\n",
              "<svg xmlns=\"http://www.w3.org/2000/svg\" height=\"24px\"viewBox=\"0 0 24 24\"\n",
              "     width=\"24px\">\n",
              "    <g>\n",
              "        <path d=\"M19 3H5c-1.1 0-2 .9-2 2v14c0 1.1.9 2 2 2h14c1.1 0 2-.9 2-2V5c0-1.1-.9-2-2-2zM9 17H7v-7h2v7zm4 0h-2V7h2v10zm4 0h-2v-4h2v4z\"/>\n",
              "    </g>\n",
              "</svg>\n",
              "  </button>\n",
              "\n",
              "<style>\n",
              "  .colab-df-quickchart {\n",
              "      --bg-color: #E8F0FE;\n",
              "      --fill-color: #1967D2;\n",
              "      --hover-bg-color: #E2EBFA;\n",
              "      --hover-fill-color: #174EA6;\n",
              "      --disabled-fill-color: #AAA;\n",
              "      --disabled-bg-color: #DDD;\n",
              "  }\n",
              "\n",
              "  [theme=dark] .colab-df-quickchart {\n",
              "      --bg-color: #3B4455;\n",
              "      --fill-color: #D2E3FC;\n",
              "      --hover-bg-color: #434B5C;\n",
              "      --hover-fill-color: #FFFFFF;\n",
              "      --disabled-bg-color: #3B4455;\n",
              "      --disabled-fill-color: #666;\n",
              "  }\n",
              "\n",
              "  .colab-df-quickchart {\n",
              "    background-color: var(--bg-color);\n",
              "    border: none;\n",
              "    border-radius: 50%;\n",
              "    cursor: pointer;\n",
              "    display: none;\n",
              "    fill: var(--fill-color);\n",
              "    height: 32px;\n",
              "    padding: 0;\n",
              "    width: 32px;\n",
              "  }\n",
              "\n",
              "  .colab-df-quickchart:hover {\n",
              "    background-color: var(--hover-bg-color);\n",
              "    box-shadow: 0 1px 2px rgba(60, 64, 67, 0.3), 0 1px 3px 1px rgba(60, 64, 67, 0.15);\n",
              "    fill: var(--button-hover-fill-color);\n",
              "  }\n",
              "\n",
              "  .colab-df-quickchart-complete:disabled,\n",
              "  .colab-df-quickchart-complete:disabled:hover {\n",
              "    background-color: var(--disabled-bg-color);\n",
              "    fill: var(--disabled-fill-color);\n",
              "    box-shadow: none;\n",
              "  }\n",
              "\n",
              "  .colab-df-spinner {\n",
              "    border: 2px solid var(--fill-color);\n",
              "    border-color: transparent;\n",
              "    border-bottom-color: var(--fill-color);\n",
              "    animation:\n",
              "      spin 1s steps(1) infinite;\n",
              "  }\n",
              "\n",
              "  @keyframes spin {\n",
              "    0% {\n",
              "      border-color: transparent;\n",
              "      border-bottom-color: var(--fill-color);\n",
              "      border-left-color: var(--fill-color);\n",
              "    }\n",
              "    20% {\n",
              "      border-color: transparent;\n",
              "      border-left-color: var(--fill-color);\n",
              "      border-top-color: var(--fill-color);\n",
              "    }\n",
              "    30% {\n",
              "      border-color: transparent;\n",
              "      border-left-color: var(--fill-color);\n",
              "      border-top-color: var(--fill-color);\n",
              "      border-right-color: var(--fill-color);\n",
              "    }\n",
              "    40% {\n",
              "      border-color: transparent;\n",
              "      border-right-color: var(--fill-color);\n",
              "      border-top-color: var(--fill-color);\n",
              "    }\n",
              "    60% {\n",
              "      border-color: transparent;\n",
              "      border-right-color: var(--fill-color);\n",
              "    }\n",
              "    80% {\n",
              "      border-color: transparent;\n",
              "      border-right-color: var(--fill-color);\n",
              "      border-bottom-color: var(--fill-color);\n",
              "    }\n",
              "    90% {\n",
              "      border-color: transparent;\n",
              "      border-bottom-color: var(--fill-color);\n",
              "    }\n",
              "  }\n",
              "</style>\n",
              "\n",
              "  <script>\n",
              "    async function quickchart(key) {\n",
              "      const quickchartButtonEl =\n",
              "        document.querySelector('#' + key + ' button');\n",
              "      quickchartButtonEl.disabled = true;  // To prevent multiple clicks.\n",
              "      quickchartButtonEl.classList.add('colab-df-spinner');\n",
              "      try {\n",
              "        const charts = await google.colab.kernel.invokeFunction(\n",
              "            'suggestCharts', [key], {});\n",
              "      } catch (error) {\n",
              "        console.error('Error during call to suggestCharts:', error);\n",
              "      }\n",
              "      quickchartButtonEl.classList.remove('colab-df-spinner');\n",
              "      quickchartButtonEl.classList.add('colab-df-quickchart-complete');\n",
              "    }\n",
              "    (() => {\n",
              "      let quickchartButtonEl =\n",
              "        document.querySelector('#df-39ab41ad-d06b-4cbe-8c65-7f2bb101e0b5 button');\n",
              "      quickchartButtonEl.style.display =\n",
              "        google.colab.kernel.accessAllowed ? 'block' : 'none';\n",
              "    })();\n",
              "  </script>\n",
              "</div>\n",
              "\n",
              "    </div>\n",
              "  </div>\n"
            ],
            "application/vnd.google.colaboratory.intrinsic+json": {
              "type": "dataframe"
            }
          },
          "metadata": {},
          "execution_count": 6
        }
      ],
      "source": [
        "# view of last 5 rows of the data\n",
        "hotel_booking_df.tail()"
      ]
    },
    {
      "cell_type": "markdown",
      "metadata": {
        "id": "7hBIi_osiCS2"
      },
      "source": [
        "### Dataset Rows & Columns count"
      ]
    },
    {
      "cell_type": "code",
      "execution_count": 7,
      "metadata": {
        "colab": {
          "base_uri": "https://localhost:8080/"
        },
        "id": "Kllu7SJgmLij",
        "outputId": "54b68033-6e72-42ce-e737-5339875df789"
      },
      "outputs": [
        {
          "output_type": "stream",
          "name": "stdout",
          "text": [
            "Total number of rows : 119390\n",
            "Total number of columns :32\n"
          ]
        }
      ],
      "source": [
        "# Dataset Rows & Columns count\n",
        "print(f'Total number of rows : {hotel_booking_df.shape[0]}\\nTotal number of columns :{hotel_booking_df.shape[1]}')"
      ]
    },
    {
      "cell_type": "markdown",
      "metadata": {
        "id": "JlHwYmJAmNHm"
      },
      "source": [
        "### Dataset Information"
      ]
    },
    {
      "cell_type": "code",
      "execution_count": 8,
      "metadata": {
        "colab": {
          "base_uri": "https://localhost:8080/"
        },
        "id": "e9hRXRi6meOf",
        "outputId": "bfd374ec-e999-4f58-a672-44a7c8afae1e"
      },
      "outputs": [
        {
          "output_type": "stream",
          "name": "stdout",
          "text": [
            "<class 'pandas.core.frame.DataFrame'>\n",
            "RangeIndex: 119390 entries, 0 to 119389\n",
            "Data columns (total 32 columns):\n",
            " #   Column                          Non-Null Count   Dtype  \n",
            "---  ------                          --------------   -----  \n",
            " 0   hotel                           119390 non-null  object \n",
            " 1   is_canceled                     119390 non-null  int64  \n",
            " 2   lead_time                       119390 non-null  int64  \n",
            " 3   arrival_date_year               119390 non-null  int64  \n",
            " 4   arrival_date_month              119390 non-null  object \n",
            " 5   arrival_date_week_number        119390 non-null  int64  \n",
            " 6   arrival_date_day_of_month       119390 non-null  int64  \n",
            " 7   stays_in_weekend_nights         119390 non-null  int64  \n",
            " 8   stays_in_week_nights            119390 non-null  int64  \n",
            " 9   adults                          119390 non-null  int64  \n",
            " 10  children                        119386 non-null  float64\n",
            " 11  babies                          119390 non-null  int64  \n",
            " 12  meal                            119390 non-null  object \n",
            " 13  country                         118902 non-null  object \n",
            " 14  market_segment                  119390 non-null  object \n",
            " 15  distribution_channel            119390 non-null  object \n",
            " 16  is_repeated_guest               119390 non-null  int64  \n",
            " 17  previous_cancellations          119390 non-null  int64  \n",
            " 18  previous_bookings_not_canceled  119390 non-null  int64  \n",
            " 19  reserved_room_type              119390 non-null  object \n",
            " 20  assigned_room_type              119390 non-null  object \n",
            " 21  booking_changes                 119390 non-null  int64  \n",
            " 22  deposit_type                    119390 non-null  object \n",
            " 23  agent                           103050 non-null  float64\n",
            " 24  company                         6797 non-null    float64\n",
            " 25  days_in_waiting_list            119390 non-null  int64  \n",
            " 26  customer_type                   119390 non-null  object \n",
            " 27  adr                             119390 non-null  float64\n",
            " 28  required_car_parking_spaces     119390 non-null  int64  \n",
            " 29  total_of_special_requests       119390 non-null  int64  \n",
            " 30  reservation_status              119390 non-null  object \n",
            " 31  reservation_status_date         119390 non-null  object \n",
            "dtypes: float64(4), int64(16), object(12)\n",
            "memory usage: 29.1+ MB\n"
          ]
        }
      ],
      "source": [
        "# Dataset Info\n",
        "hotel_booking_df.info()"
      ]
    },
    {
      "cell_type": "markdown",
      "metadata": {
        "id": "35m5QtbWiB9F"
      },
      "source": [
        "#### Duplicate Values"
      ]
    },
    {
      "cell_type": "code",
      "execution_count": 9,
      "metadata": {
        "colab": {
          "base_uri": "https://localhost:8080/"
        },
        "id": "_E25n9cqMcAz",
        "outputId": "ae4292b8-4645-4050-980c-e03cf583bf8e"
      },
      "outputs": [
        {
          "output_type": "stream",
          "name": "stdout",
          "text": [
            "Total number of duplicate values : 31994\n"
          ]
        }
      ],
      "source": [
        "# Count of duplicate values\n",
        "print(f'Total number of duplicate values : {hotel_booking_df.duplicated().sum()}')"
      ]
    },
    {
      "cell_type": "markdown",
      "metadata": {
        "id": "PoPl-ycgm1ru"
      },
      "source": [
        "#### Missing Values/Null Values"
      ]
    },
    {
      "cell_type": "code",
      "execution_count": 10,
      "metadata": {
        "colab": {
          "base_uri": "https://localhost:8080/"
        },
        "id": "GgHWkxvamxVg",
        "outputId": "12f18a89-8a9b-4d59-ed36-03f2b1cf4597"
      },
      "outputs": [
        {
          "output_type": "stream",
          "name": "stdout",
          "text": [
            "Number of null values these coloumn contains:\n",
            " company     112593\n",
            "agent        16340\n",
            "country        488\n",
            "children         4\n",
            "dtype: int64\n"
          ]
        }
      ],
      "source": [
        "# Missing Values/Null Values Count\n",
        "null_value_count = hotel_booking_df.isna().sum().sort_values(ascending = False)\n",
        "\n",
        "# Print only columns with missing values\n",
        "null_value_count = null_value_count[null_value_count>0]\n",
        "print('Number of null values these coloumn contains:\\n',null_value_count)\n"
      ]
    },
    {
      "cell_type": "code",
      "source": [
        "# Visualizing the missing values\n",
        "\n",
        "# Create a bar plot\n",
        "plt.figure(figsize=(7, 4))\n",
        "null_value_count.plot(kind='bar')\n",
        "plt.title('Missing Values in Each Column')\n",
        "plt.xlabel('Columns')\n",
        "plt.ylabel('count of missing')\n",
        "plt.xticks(rotation=360)\n",
        "plt.show()\n"
      ],
      "metadata": {
        "id": "3q5wnI3om9sJ",
        "colab": {
          "base_uri": "https://localhost:8080/",
          "height": 410
        },
        "outputId": "4d6f7f82-0757-4fba-e269-9509469b0a81"
      },
      "execution_count": 11,
      "outputs": [
        {
          "output_type": "display_data",
          "data": {
            "text/plain": [
              "<Figure size 700x400 with 1 Axes>"
            ],
            "image/png": "[encoded data removed]"
          },
          "metadata": {}
        }
      ]
    },
    {
      "cell_type": "markdown",
      "metadata": {
        "id": "H0kj-8xxnORC"
      },
      "source": [
        "### What did you know about your dataset?"
      ]
    },
    {
      "cell_type": "markdown",
      "metadata": {
        "id": "9VwHlEbSqRRX"
      },
      "source": [
        "This data set contains a single file which compares various booking information between two hotels: a city hotel and a resort hotel.Includes information such as when the booking was made, length of stay, the number of adults, children, and/or babies, and the number of available parking spaces, among other things. The dataset contains a total of 119390 rows and 32 columns.Dataset Contains duplicated items i.e 31944 which is removed later.Also it have null values in company , agent , country, children column. Company has extremely large number of null values as compared to other columns.\n"
      ]
    },
    {
      "cell_type": "markdown",
      "metadata": {
        "id": "nA9Y7ga8ng1Z"
      },
      "source": [
        "## ***2. Understanding Your Variables***"
      ]
    },
    {
      "cell_type": "code",
      "execution_count": 12,
      "metadata": {
        "colab": {
          "base_uri": "https://localhost:8080/"
        },
        "id": "j7xfkqrt5Ag5",
        "outputId": "e9d853a5-caf6-490f-afb8-ece84893156a"
      },
      "outputs": [
        {
          "output_type": "execute_result",
          "data": {
            "text/plain": [
              "['hotel',\n",
              " 'is_canceled',\n",
              " 'lead_time',\n",
              " 'arrival_date_year',\n",
              " 'arrival_date_month',\n",
              " 'arrival_date_week_number',\n",
              " 'arrival_date_day_of_month',\n",
              " 'stays_in_weekend_nights',\n",
              " 'stays_in_week_nights',\n",
              " 'adults',\n",
              " 'children',\n",
              " 'babies',\n",
              " 'meal',\n",
              " 'country',\n",
              " 'market_segment',\n",
              " 'distribution_channel',\n",
              " 'is_repeated_guest',\n",
              " 'previous_cancellations',\n",
              " 'previous_bookings_not_canceled',\n",
              " 'reserved_room_type',\n",
              " 'assigned_room_type',\n",
              " 'booking_changes',\n",
              " 'deposit_type',\n",
              " 'agent',\n",
              " 'company',\n",
              " 'days_in_waiting_list',\n",
              " 'customer_type',\n",
              " 'adr',\n",
              " 'required_car_parking_spaces',\n",
              " 'total_of_special_requests',\n",
              " 'reservation_status',\n",
              " 'reservation_status_date']"
            ]
          },
          "metadata": {},
          "execution_count": 12
        }
      ],
      "source": [
        "# Dataset Columns\n",
        "list(hotel_booking_df.columns)"
      ]
    },
    {
      "cell_type": "code",
      "execution_count": 13,
      "metadata": {
        "colab": {
          "base_uri": "https://localhost:8080/",
          "height": 320
        },
        "id": "DnOaZdaE5Q5t",
        "outputId": "3cff6f89-3c94-4cfe-85cc-abd3a9959ca2"
      },
      "outputs": [
        {
          "output_type": "execute_result",
          "data": {
            "text/plain": [
              "         is_canceled      lead_time  arrival_date_year  \\\n",
              "count  119390.000000  119390.000000      119390.000000   \n",
              "mean        0.370416     104.011416        2016.156554   \n",
              "std         0.482918     106.863097           0.707476   \n",
              "min         0.000000       0.000000        2015.000000   \n",
              "25%         0.000000      18.000000        2016.000000   \n",
              "50%         0.000000      69.000000        2016.000000   \n",
              "75%         1.000000     160.000000        2017.000000   \n",
              "max         1.000000     737.000000        2017.000000   \n",
              "\n",
              "       arrival_date_week_number  arrival_date_day_of_month  \\\n",
              "count             119390.000000              119390.000000   \n",
              "mean                  27.165173                  15.798241   \n",
              "std                   13.605138                   8.780829   \n",
              "min                    1.000000                   1.000000   \n",
              "25%                   16.000000                   8.000000   \n",
              "50%                   28.000000                  16.000000   \n",
              "75%                   38.000000                  23.000000   \n",
              "max                   53.000000                  31.000000   \n",
              "\n",
              "       stays_in_weekend_nights  stays_in_week_nights         adults  \\\n",
              "count            119390.000000         119390.000000  119390.000000   \n",
              "mean                  0.927599              2.500302       1.856403   \n",
              "std                   0.998613              1.908286       0.579261   \n",
              "min                   0.000000              0.000000       0.000000   \n",
              "25%                   0.000000              1.000000       2.000000   \n",
              "50%                   1.000000              2.000000       2.000000   \n",
              "75%                   2.000000              3.000000       2.000000   \n",
              "max                  19.000000             50.000000      55.000000   \n",
              "\n",
              "            children         babies  is_repeated_guest  \\\n",
              "count  119386.000000  119390.000000      119390.000000   \n",
              "mean        0.103890       0.007949           0.031912   \n",
              "std         0.398561       0.097436           0.175767   \n",
              "min         0.000000       0.000000           0.000000   \n",
              "25%         0.000000       0.000000           0.000000   \n",
              "50%         0.000000       0.000000           0.000000   \n",
              "75%         0.000000       0.000000           0.000000   \n",
              "max        10.000000      10.000000           1.000000   \n",
              "\n",
              "       previous_cancellations  previous_bookings_not_canceled  \\\n",
              "count           119390.000000                   119390.000000   \n",
              "mean                 0.087118                        0.137097   \n",
              "std                  0.844336                        1.497437   \n",
              "min                  0.000000                        0.000000   \n",
              "25%                  0.000000                        0.000000   \n",
              "50%                  0.000000                        0.000000   \n",
              "75%                  0.000000                        0.000000   \n",
              "max                 26.000000                       72.000000   \n",
              "\n",
              "       booking_changes          agent      company  days_in_waiting_list  \\\n",
              "count    119390.000000  103050.000000  6797.000000         119390.000000   \n",
              "mean          0.221124      86.693382   189.266735              2.321149   \n",
              "std           0.652306     110.774548   131.655015             17.594721   \n",
              "min           0.000000       1.000000     6.000000              0.000000   \n",
              "25%           0.000000       9.000000    62.000000              0.000000   \n",
              "50%           0.000000      14.000000   179.000000              0.000000   \n",
              "75%           0.000000     229.000000   270.000000              0.000000   \n",
              "max          21.000000     535.000000   543.000000            391.000000   \n",
              "\n",
              "                 adr  required_car_parking_spaces  total_of_special_requests  \n",
              "count  119390.000000                119390.000000              119390.000000  \n",
              "mean      101.831122                     0.062518                   0.571363  \n",
              "std        50.535790                     0.245291                   0.792798  \n",
              "min        -6.380000                     0.000000                   0.000000  \n",
              "25%        69.290000                     0.000000                   0.000000  \n",
              "50%        94.575000                     0.000000                   0.000000  \n",
              "75%       126.000000                     0.000000                   1.000000  \n",
              "max      5400.000000                     8.000000                   5.000000  "
            ],
            "text/html": [
              "\n",
              "  <div id=\"df-74cc7deb-07fd-43bd-a1e7-a85e1b3465c0\" class=\"colab-df-container\">\n",
              "    <div>\n",
              "<style scoped>\n",
              "    .dataframe tbody tr th:only-of-type {\n",
              "        vertical-align: middle;\n",
              "    }\n",
              "\n",
              "    .dataframe tbody tr th {\n",
              "        vertical-align: top;\n",
              "    }\n",
              "\n",
              "    .dataframe thead th {\n",
              "        text-align: right;\n",
              "    }\n",
              "</style>\n",
              "<table border=\"1\" class=\"dataframe\">\n",
              "  <thead>\n",
              "    <tr style=\"text-align: right;\">\n",
              "      <th></th>\n",
              "      <th>is_canceled</th>\n",
              "      <th>lead_time</th>\n",
              "      <th>arrival_date_year</th>\n",
              "      <th>arrival_date_week_number</th>\n",
              "      <th>arrival_date_day_of_month</th>\n",
              "      <th>stays_in_weekend_nights</th>\n",
              "      <th>stays_in_week_nights</th>\n",
              "      <th>adults</th>\n",
              "      <th>children</th>\n",
              "      <th>babies</th>\n",
              "      <th>is_repeated_guest</th>\n",
              "      <th>previous_cancellations</th>\n",
              "      <th>previous_bookings_not_canceled</th>\n",
              "      <th>booking_changes</th>\n",
              "      <th>agent</th>\n",
              "      <th>company</th>\n",
              "      <th>days_in_waiting_list</th>\n",
              "      <th>adr</th>\n",
              "      <th>required_car_parking_spaces</th>\n",
              "      <th>total_of_special_requests</th>\n",
              "    </tr>\n",
              "  </thead>\n",
              "  <tbody>\n",
              "    <tr>\n",
              "      <th>count</th>\n",
              "      <td>119390.000000</td>\n",
              "      <td>119390.000000</td>\n",
              "      <td>119390.000000</td>\n",
              "      <td>119390.000000</td>\n",
              "      <td>119390.000000</td>\n",
              "      <td>119390.000000</td>\n",
              "      <td>119390.000000</td>\n",
              "      <td>119390.000000</td>\n",
              "      <td>119386.000000</td>\n",
              "      <td>119390.000000</td>\n",
              "      <td>119390.000000</td>\n",
              "      <td>119390.000000</td>\n",
              "      <td>119390.000000</td>\n",
              "      <td>119390.000000</td>\n",
              "      <td>103050.000000</td>\n",
              "      <td>6797.000000</td>\n",
              "      <td>119390.000000</td>\n",
              "      <td>119390.000000</td>\n",
              "      <td>119390.000000</td>\n",
              "      <td>119390.000000</td>\n",
              "    </tr>\n",
              "    <tr>\n",
              "      <th>mean</th>\n",
              "      <td>0.370416</td>\n",
              "      <td>104.011416</td>\n",
              "      <td>2016.156554</td>\n",
              "      <td>27.165173</td>\n",
              "      <td>15.798241</td>\n",
              "      <td>0.927599</td>\n",
              "      <td>2.500302</td>\n",
              "      <td>1.856403</td>\n",
              "      <td>0.103890</td>\n",
              "      <td>0.007949</td>\n",
              "      <td>0.031912</td>\n",
              "      <td>0.087118</td>\n",
              "      <td>0.137097</td>\n",
              "      <td>0.221124</td>\n",
              "      <td>86.693382</td>\n",
              "      <td>189.266735</td>\n",
              "      <td>2.321149</td>\n",
              "      <td>101.831122</td>\n",
              "      <td>0.062518</td>\n",
              "      <td>0.571363</td>\n",
              "    </tr>\n",
              "    <tr>\n",
              "      <th>std</th>\n",
              "      <td>0.482918</td>\n",
              "      <td>106.863097</td>\n",
              "      <td>0.707476</td>\n",
              "      <td>13.605138</td>\n",
              "      <td>8.780829</td>\n",
              "      <td>0.998613</td>\n",
              "      <td>1.908286</td>\n",
              "      <td>0.579261</td>\n",
              "      <td>0.398561</td>\n",
              "      <td>0.097436</td>\n",
              "      <td>0.175767</td>\n",
              "      <td>0.844336</td>\n",
              "      <td>1.497437</td>\n",
              "      <td>0.652306</td>\n",
              "      <td>110.774548</td>\n",
              "      <td>131.655015</td>\n",
              "      <td>17.594721</td>\n",
              "      <td>50.535790</td>\n",
              "      <td>0.245291</td>\n",
              "      <td>0.792798</td>\n",
              "    </tr>\n",
              "    <tr>\n",
              "      <th>min</th>\n",
              "      <td>0.000000</td>\n",
              "      <td>0.000000</td>\n",
              "      <td>2015.000000</td>\n",
              "      <td>1.000000</td>\n",
              "      <td>1.000000</td>\n",
              "      <td>0.000000</td>\n",
              "      <td>0.000000</td>\n",
              "      <td>0.000000</td>\n",
              "      <td>0.000000</td>\n",
              "      <td>0.000000</td>\n",
              "      <td>0.000000</td>\n",
              "      <td>0.000000</td>\n",
              "      <td>0.000000</td>\n",
              "      <td>0.000000</td>\n",
              "      <td>1.000000</td>\n",
              "      <td>6.000000</td>\n",
              "      <td>0.000000</td>\n",
              "      <td>-6.380000</td>\n",
              "      <td>0.000000</td>\n",
              "      <td>0.000000</td>\n",
              "    </tr>\n",
              "    <tr>\n",
              "      <th>25%</th>\n",
              "      <td>0.000000</td>\n",
              "      <td>18.000000</td>\n",
              "      <td>2016.000000</td>\n",
              "      <td>16.000000</td>\n",
              "      <td>8.000000</td>\n",
              "      <td>0.000000</td>\n",
              "      <td>1.000000</td>\n",
              "      <td>2.000000</td>\n",
              "      <td>0.000000</td>\n",
              "      <td>0.000000</td>\n",
              "      <td>0.000000</td>\n",
              "      <td>0.000000</td>\n",
              "      <td>0.000000</td>\n",
              "      <td>0.000000</td>\n",
              "      <td>9.000000</td>\n",
              "      <td>62.000000</td>\n",
              "      <td>0.000000</td>\n",
              "      <td>69.290000</td>\n",
              "      <td>0.000000</td>\n",
              "      <td>0.000000</td>\n",
              "    </tr>\n",
              "    <tr>\n",
              "      <th>50%</th>\n",
              "      <td>0.000000</td>\n",
              "      <td>69.000000</td>\n",
              "      <td>2016.000000</td>\n",
              "      <td>28.000000</td>\n",
              "      <td>16.000000</td>\n",
              "      <td>1.000000</td>\n",
              "      <td>2.000000</td>\n",
              "      <td>2.000000</td>\n",
              "      <td>0.000000</td>\n",
              "      <td>0.000000</td>\n",
              "      <td>0.000000</td>\n",
              "      <td>0.000000</td>\n",
              "      <td>0.000000</td>\n",
              "      <td>0.000000</td>\n",
              "      <td>14.000000</td>\n",
              "      <td>179.000000</td>\n",
              "      <td>0.000000</td>\n",
              "      <td>94.575000</td>\n",
              "      <td>0.000000</td>\n",
              "      <td>0.000000</td>\n",
              "    </tr>\n",
              "    <tr>\n",
              "      <th>75%</th>\n",
              "      <td>1.000000</td>\n",
              "      <td>160.000000</td>\n",
              "      <td>2017.000000</td>\n",
              "      <td>38.000000</td>\n",
              "      <td>23.000000</td>\n",
              "      <td>2.000000</td>\n",
              "      <td>3.000000</td>\n",
              "      <td>2.000000</td>\n",
              "      <td>0.000000</td>\n",
              "      <td>0.000000</td>\n",
              "      <td>0.000000</td>\n",
              "      <td>0.000000</td>\n",
              "      <td>0.000000</td>\n",
              "      <td>0.000000</td>\n",
              "      <td>229.000000</td>\n",
              "      <td>270.000000</td>\n",
              "      <td>0.000000</td>\n",
              "      <td>126.000000</td>\n",
              "      <td>0.000000</td>\n",
              "      <td>1.000000</td>\n",
              "    </tr>\n",
              "    <tr>\n",
              "      <th>max</th>\n",
              "      <td>1.000000</td>\n",
              "      <td>737.000000</td>\n",
              "      <td>2017.000000</td>\n",
              "      <td>53.000000</td>\n",
              "      <td>31.000000</td>\n",
              "      <td>19.000000</td>\n",
              "      <td>50.000000</td>\n",
              "      <td>55.000000</td>\n",
              "      <td>10.000000</td>\n",
              "      <td>10.000000</td>\n",
              "      <td>1.000000</td>\n",
              "      <td>26.000000</td>\n",
              "      <td>72.000000</td>\n",
              "      <td>21.000000</td>\n",
              "      <td>535.000000</td>\n",
              "      <td>543.000000</td>\n",
              "      <td>391.000000</td>\n",
              "      <td>5400.000000</td>\n",
              "      <td>8.000000</td>\n",
              "      <td>5.000000</td>\n",
              "    </tr>\n",
              "  </tbody>\n",
              "</table>\n",
              "</div>\n",
              "    <div class=\"colab-df-buttons\">\n",
              "\n",
              "  <div class=\"colab-df-container\">\n",
              "    <button class=\"colab-df-convert\" onclick=\"convertToInteractive('df-74cc7deb-07fd-43bd-a1e7-a85e1b3465c0')\"\n",
              "            title=\"Convert this dataframe to an interactive table.\"\n",
              "            style=\"display:none;\">\n",
              "\n",
              "  <svg xmlns=\"http://www.w3.org/2000/svg\" height=\"24px\" viewBox=\"0 -960 960 960\">\n",
              "    <path d=\"M120-120v-720h720v720H120Zm60-500h600v-160H180v160Zm220 220h160v-160H400v160Zm0 220h160v-160H400v160ZM180-400h160v-160H180v160Zm440 0h160v-160H620v160ZM180-180h160v-160H180v160Zm440 0h160v-160H620v160Z\"/>\n",
              "  </svg>\n",
              "    </button>\n",
              "\n",
              "  <style>\n",
              "    .colab-df-container {\n",
              "      display:flex;\n",
              "      gap: 12px;\n",
              "    }\n",
              "\n",
              "    .colab-df-convert {\n",
              "      background-color: #E8F0FE;\n",
              "      border: none;\n",
              "      border-radius: 50%;\n",
              "      cursor: pointer;\n",
              "      display: none;\n",
              "      fill: #1967D2;\n",
              "      height: 32px;\n",
              "      padding: 0 0 0 0;\n",
              "      width: 32px;\n",
              "    }\n",
              "\n",
              "    .colab-df-convert:hover {\n",
              "      background-color: #E2EBFA;\n",
              "      box-shadow: 0px 1px 2px rgba(60, 64, 67, 0.3), 0px 1px 3px 1px rgba(60, 64, 67, 0.15);\n",
              "      fill: #174EA6;\n",
              "    }\n",
              "\n",
              "    .colab-df-buttons div {\n",
              "      margin-bottom: 4px;\n",
              "    }\n",
              "\n",
              "    [theme=dark] .colab-df-convert {\n",
              "      background-color: #3B4455;\n",
              "      fill: #D2E3FC;\n",
              "    }\n",
              "\n",
              "    [theme=dark] .colab-df-convert:hover {\n",
              "      background-color: #434B5C;\n",
              "      box-shadow: 0px 1px 3px 1px rgba(0, 0, 0, 0.15);\n",
              "      filter: drop-shadow(0px 1px 2px rgba(0, 0, 0, 0.3));\n",
              "      fill: #FFFFFF;\n",
              "    }\n",
              "  </style>\n",
              "\n",
              "    <script>\n",
              "      const buttonEl =\n",
              "        document.querySelector('#df-74cc7deb-07fd-43bd-a1e7-a85e1b3465c0 button.colab-df-convert');\n",
              "      buttonEl.style.display =\n",
              "        google.colab.kernel.accessAllowed ? 'block' : 'none';\n",
              "\n",
              "      async function convertToInteractive(key) {\n",
              "        const element = document.querySelector('#df-74cc7deb-07fd-43bd-a1e7-a85e1b3465c0');\n",
              "        const dataTable =\n",
              "          await google.colab.kernel.invokeFunction('convertToInteractive',\n",
              "                                                    [key], {});\n",
              "        if (!dataTable) return;\n",
              "\n",
              "        const docLinkHtml = 'Like what you see? Visit the ' +\n",
              "          '<a target=\"_blank\" href=https://colab.research.google.com/notebooks/data_table.ipynb>data table notebook</a>'\n",
              "          + ' to learn more about interactive tables.';\n",
              "        element.innerHTML = '';\n",
              "        dataTable['output_type'] = 'display_data';\n",
              "        await google.colab.output.renderOutput(dataTable, element);\n",
              "        const docLink = document.createElement('div');\n",
              "        docLink.innerHTML = docLinkHtml;\n",
              "        element.appendChild(docLink);\n",
              "      }\n",
              "    </script>\n",
              "  </div>\n",
              "\n",
              "\n",
              "<div id=\"df-9188363d-cdc1-4d10-b66f-311c423dfa41\">\n",
              "  <button class=\"colab-df-quickchart\" onclick=\"quickchart('df-9188363d-cdc1-4d10-b66f-311c423dfa41')\"\n",
              "            title=\"Suggest charts\"\n",
              "            style=\"display:none;\">\n",
              "\n",
              "<svg xmlns=\"http://www.w3.org/2000/svg\" height=\"24px\"viewBox=\"0 0 24 24\"\n",
              "     width=\"24px\">\n",
              "    <g>\n",
              "        <path d=\"M19 3H5c-1.1 0-2 .9-2 2v14c0 1.1.9 2 2 2h14c1.1 0 2-.9 2-2V5c0-1.1-.9-2-2-2zM9 17H7v-7h2v7zm4 0h-2V7h2v10zm4 0h-2v-4h2v4z\"/>\n",
              "    </g>\n",
              "</svg>\n",
              "  </button>\n",
              "\n",
              "<style>\n",
              "  .colab-df-quickchart {\n",
              "      --bg-color: #E8F0FE;\n",
              "      --fill-color: #1967D2;\n",
              "      --hover-bg-color: #E2EBFA;\n",
              "      --hover-fill-color: #174EA6;\n",
              "      --disabled-fill-color: #AAA;\n",
              "      --disabled-bg-color: #DDD;\n",
              "  }\n",
              "\n",
              "  [theme=dark] .colab-df-quickchart {\n",
              "      --bg-color: #3B4455;\n",
              "      --fill-color: #D2E3FC;\n",
              "      --hover-bg-color: #434B5C;\n",
              "      --hover-fill-color: #FFFFFF;\n",
              "      --disabled-bg-color: #3B4455;\n",
              "      --disabled-fill-color: #666;\n",
              "  }\n",
              "\n",
              "  .colab-df-quickchart {\n",
              "    background-color: var(--bg-color);\n",
              "    border: none;\n",
              "    border-radius: 50%;\n",
              "    cursor: pointer;\n",
              "    display: none;\n",
              "    fill: var(--fill-color);\n",
              "    height: 32px;\n",
              "    padding: 0;\n",
              "    width: 32px;\n",
              "  }\n",
              "\n",
              "  .colab-df-quickchart:hover {\n",
              "    background-color: var(--hover-bg-color);\n",
              "    box-shadow: 0 1px 2px rgba(60, 64, 67, 0.3), 0 1px 3px 1px rgba(60, 64, 67, 0.15);\n",
              "    fill: var(--button-hover-fill-color);\n",
              "  }\n",
              "\n",
              "  .colab-df-quickchart-complete:disabled,\n",
              "  .colab-df-quickchart-complete:disabled:hover {\n",
              "    background-color: var(--disabled-bg-color);\n",
              "    fill: var(--disabled-fill-color);\n",
              "    box-shadow: none;\n",
              "  }\n",
              "\n",
              "  .colab-df-spinner {\n",
              "    border: 2px solid var(--fill-color);\n",
              "    border-color: transparent;\n",
              "    border-bottom-color: var(--fill-color);\n",
              "    animation:\n",
              "      spin 1s steps(1) infinite;\n",
              "  }\n",
              "\n",
              "  @keyframes spin {\n",
              "    0% {\n",
              "      border-color: transparent;\n",
              "      border-bottom-color: var(--fill-color);\n",
              "      border-left-color: var(--fill-color);\n",
              "    }\n",
              "    20% {\n",
              "      border-color: transparent;\n",
              "      border-left-color: var(--fill-color);\n",
              "      border-top-color: var(--fill-color);\n",
              "    }\n",
              "    30% {\n",
              "      border-color: transparent;\n",
              "      border-left-color: var(--fill-color);\n",
              "      border-top-color: var(--fill-color);\n",
              "      border-right-color: var(--fill-color);\n",
              "    }\n",
              "    40% {\n",
              "      border-color: transparent;\n",
              "      border-right-color: var(--fill-color);\n",
              "      border-top-color: var(--fill-color);\n",
              "    }\n",
              "    60% {\n",
              "      border-color: transparent;\n",
              "      border-right-color: var(--fill-color);\n",
              "    }\n",
              "    80% {\n",
              "      border-color: transparent;\n",
              "      border-right-color: var(--fill-color);\n",
              "      border-bottom-color: var(--fill-color);\n",
              "    }\n",
              "    90% {\n",
              "      border-color: transparent;\n",
              "      border-bottom-color: var(--fill-color);\n",
              "    }\n",
              "  }\n",
              "</style>\n",
              "\n",
              "  <script>\n",
              "    async function quickchart(key) {\n",
              "      const quickchartButtonEl =\n",
              "        document.querySelector('#' + key + ' button');\n",
              "      quickchartButtonEl.disabled = true;  // To prevent multiple clicks.\n",
              "      quickchartButtonEl.classList.add('colab-df-spinner');\n",
              "      try {\n",
              "        const charts = await google.colab.kernel.invokeFunction(\n",
              "            'suggestCharts', [key], {});\n",
              "      } catch (error) {\n",
              "        console.error('Error during call to suggestCharts:', error);\n",
              "      }\n",
              "      quickchartButtonEl.classList.remove('colab-df-spinner');\n",
              "      quickchartButtonEl.classList.add('colab-df-quickchart-complete');\n",
              "    }\n",
              "    (() => {\n",
              "      let quickchartButtonEl =\n",
              "        document.querySelector('#df-9188363d-cdc1-4d10-b66f-311c423dfa41 button');\n",
              "      quickchartButtonEl.style.display =\n",
              "        google.colab.kernel.accessAllowed ? 'block' : 'none';\n",
              "    })();\n",
              "  </script>\n",
              "</div>\n",
              "\n",
              "    </div>\n",
              "  </div>\n"
            ],
            "application/vnd.google.colaboratory.intrinsic+json": {
              "type": "dataframe",
              "summary": "{\n  \"name\": \"hotel_booking_df\",\n  \"rows\": 8,\n  \"fields\": [\n    {\n      \"column\": \"is_canceled\",\n      \"properties\": {\n        \"dtype\": \"number\",\n        \"std\": 42210.59518981826,\n        \"min\": 0.0,\n        \"max\": 119390.0,\n        \"samples\": [\n          0.37041628277075134,\n          1.0,\n          0.4829182265925984\n        ],\n        \"num_unique_values\": 5,\n        \"semantic_type\": \"\",\n        \"description\": \"\"\n      }\n    },\n    {\n      \"column\": \"lead_time\",\n      \"properties\": {\n        \"dtype\": \"number\",\n        \"std\": 42151.05353185858,\n        \"min\": 0.0,\n        \"max\": 119390.0,\n        \"samples\": [\n          104.01141636652986,\n          69.0,\n          119390.0\n        ],\n        \"num_unique_values\": 8,\n        \"semantic_type\": \"\",\n        \"description\": \"\"\n      }\n    },\n    {\n      \"column\": \"arrival_date_year\",\n      \"properties\": {\n        \"dtype\": \"number\",\n        \"std\": 41605.68299841429,\n        \"min\": 0.7074759445203559,\n        \"max\": 119390.0,\n        \"samples\": [\n          119390.0,\n          2016.156554150264,\n          2017.0\n        ],\n        \"num_unique_values\": 6,\n        \"semantic_type\": \"\",\n        \"description\": \"\"\n      }\n    },\n    {\n      \"column\": \"arrival_date_week_number\",\n      \"properties\": {\n        \"dtype\": \"number\",\n        \"std\": 42201.81402111843,\n        \"min\": 1.0,\n        \"max\": 119390.0,\n        \"samples\": [\n          27.16517296255968,\n          28.0,\n          119390.0\n        ],\n        \"num_unique_values\": 8,\n        \"semantic_type\": \"\",\n        \"description\": \"\"\n      }\n    },\n    {\n      \"column\": \"arrival_date_day_of_month\",\n      \"properties\": {\n        \"dtype\": \"number\",\n        \"std\": 42205.50879379506,\n        \"min\": 1.0,\n        \"max\": 119390.0,\n        \"samples\": [\n          15.798241058715135,\n          16.0,\n          119390.0\n        ],\n        \"num_unique_values\": 8,\n        \"semantic_type\": \"\",\n        \"description\": \"\"\n      }\n    },\n    {\n      \"column\": \"stays_in_weekend_nights\",\n      \"properties\": {\n        \"dtype\": \"number\",\n        \"std\": 42209.5313308388,\n        \"min\": 0.0,\n        \"max\": 119390.0,\n        \"samples\": [\n          119390.0,\n          0.9275986263506156,\n          2.0\n        ],\n        \"num_unique_values\": 7,\n        \"semantic_type\": \"\",\n        \"description\": \"\"\n      }\n    },\n    {\n      \"column\": \"stays_in_week_nights\",\n      \"properties\": {\n        \"dtype\": \"number\",\n        \"std\": 42207.69159751826,\n        \"min\": 0.0,\n        \"max\": 119390.0,\n        \"samples\": [\n          2.500301532791691,\n          2.0,\n          119390.0\n        ],\n        \"num_unique_values\": 8,\n        \"semantic_type\": \"\",\n        \"description\": \"\"\n      }\n    },\n    {\n      \"column\": \"adults\",\n      \"properties\": {\n        \"dtype\": \"number\",\n        \"std\": 42207.539491149604,\n        \"min\": 0.0,\n        \"max\": 119390.0,\n        \"samples\": [\n          119390.0,\n          1.8564033838679956,\n          55.0\n        ],\n        \"num_unique_values\": 6,\n        \"semantic_type\": \"\",\n        \"description\": \"\"\n      }\n    },\n    {\n      \"column\": \"children\",\n      \"properties\": {\n        \"dtype\": \"number\",\n        \"std\": 42208.79477831908,\n        \"min\": 0.0,\n        \"max\": 119386.0,\n        \"samples\": [\n          0.10388990333874994,\n          10.0,\n          0.3985614447864417\n        ],\n        \"num_unique_values\": 5,\n        \"semantic_type\": \"\",\n        \"description\": \"\"\n      }\n    },\n    {\n      \"column\": \"babies\",\n      \"properties\": {\n        \"dtype\": \"number\",\n        \"std\": 42210.22904846641,\n        \"min\": 0.0,\n        \"max\": 119390.0,\n        \"samples\": [\n          0.007948739425412514,\n          10.0,\n          0.09743619130126437\n        ],\n        \"num_unique_values\": 5,\n        \"semantic_type\": \"\",\n        \"description\": \"\"\n      }\n    },\n    {\n      \"column\": \"is_repeated_guest\",\n      \"properties\": {\n        \"dtype\": \"number\",\n        \"std\": 42210.67830730535,\n        \"min\": 0.0,\n        \"max\": 119390.0,\n        \"samples\": [\n          0.03191222045397437,\n          1.0,\n          0.17576714541065658\n        ],\n        \"num_unique_values\": 5,\n        \"semantic_type\": \"\",\n        \"description\": \"\"\n      }\n    },\n    {\n      \"column\": \"previous_cancellations\",\n      \"properties\": {\n        \"dtype\": \"number\",\n        \"std\": 42209.38002891463,\n        \"min\": 0.0,\n        \"max\": 119390.0,\n        \"samples\": [\n          0.08711784906608594,\n          26.0,\n          0.8443363841545105\n        ],\n        \"num_unique_values\": 5,\n        \"semantic_type\": \"\",\n        \"description\": \"\"\n      }\n    },\n    {\n      \"column\": \"previous_bookings_not_canceled\",\n      \"properties\": {\n        \"dtype\": \"number\",\n        \"std\": 42207.027663410394,\n        \"min\": 0.0,\n        \"max\": 119390.0,\n        \"samples\": [\n          0.13709690928888515,\n          72.0,\n          1.4974368477076776\n        ],\n        \"num_unique_values\": 5,\n        \"semantic_type\": \"\",\n        \"description\": \"\"\n      }\n    },\n    {\n      \"column\": \"booking_changes\",\n      \"properties\": {\n        \"dtype\": \"number\",\n        \"std\": 42209.63515931599,\n        \"min\": 0.0,\n        \"max\": 119390.0,\n        \"samples\": [\n          0.22112404724013737,\n          21.0,\n          0.6523055726747721\n        ],\n        \"num_unique_values\": 5,\n        \"semantic_type\": \"\",\n        \"description\": \"\"\n      }\n    },\n    {\n      \"column\": \"agent\",\n      \"properties\": {\n        \"dtype\": \"number\",\n        \"std\": 36384.33514445704,\n        \"min\": 1.0,\n        \"max\": 103050.0,\n        \"samples\": [\n          86.69338185346919,\n          14.0,\n          103050.0\n        ],\n        \"num_unique_values\": 8,\n        \"semantic_type\": \"\",\n        \"description\": \"\"\n      }\n    },\n    {\n      \"column\": \"company\",\n      \"properties\": {\n        \"dtype\": \"number\",\n        \"std\": 2338.993477710788,\n        \"min\": 6.0,\n        \"max\": 6797.0,\n        \"samples\": [\n          189.26673532440782,\n          179.0,\n          6797.0\n        ],\n        \"num_unique_values\": 8,\n        \"semantic_type\": \"\",\n        \"description\": \"\"\n      }\n    },\n    {\n      \"column\": \"days_in_waiting_list\",\n      \"properties\": {\n        \"dtype\": \"number\",\n        \"std\": 42190.20344235136,\n        \"min\": 0.0,\n        \"max\": 119390.0,\n        \"samples\": [\n          2.321149174972778,\n          391.0,\n          17.594720878776215\n        ],\n        \"num_unique_values\": 5,\n        \"semantic_type\": \"\",\n        \"description\": \"\"\n      }\n    },\n    {\n      \"column\": \"adr\",\n      \"properties\": {\n        \"dtype\": \"number\",\n        \"std\": 41957.43665958635,\n        \"min\": -6.38,\n        \"max\": 119390.0,\n        \"samples\": [\n          101.83112153446686,\n          94.575,\n          119390.0\n        ],\n        \"num_unique_values\": 8,\n        \"semantic_type\": \"\",\n        \"description\": \"\"\n      }\n    },\n    {\n      \"column\": \"required_car_parking_spaces\",\n      \"properties\": {\n        \"dtype\": \"number\",\n        \"std\": 42210.31978693818,\n        \"min\": 0.0,\n        \"max\": 119390.0,\n        \"samples\": [\n          0.06251779881062065,\n          8.0,\n          0.2452911474674936\n        ],\n        \"num_unique_values\": 5,\n        \"semantic_type\": \"\",\n        \"description\": \"\"\n      }\n    },\n    {\n      \"column\": \"total_of_special_requests\",\n      \"properties\": {\n        \"dtype\": \"number\",\n        \"std\": 42210.36738912644,\n        \"min\": 0.0,\n        \"max\": 119390.0,\n        \"samples\": [\n          119390.0,\n          0.5713627607002262,\n          5.0\n        ],\n        \"num_unique_values\": 6,\n        \"semantic_type\": \"\",\n        \"description\": \"\"\n      }\n    }\n  ]\n}"
            }
          },
          "metadata": {},
          "execution_count": 13
        }
      ],
      "source": [
        "# Dataset Describe\n",
        "hotel_booking_df.describe()"
      ]
    },
    {
      "cell_type": "markdown",
      "metadata": {
        "id": "PBTbrJXOngz2"
      },
      "source": [
        "### Variables Description"
      ]
    },
    {
      "cell_type": "markdown",
      "metadata": {
        "id": "aJV4KIxSnxay"
      },
      "source": [
        "***The columns and the data they represent are listed below:***\n",
        "        \n",
        "1. **hotel :** Name of the hotel (Resort Hotel or City Hotel)\n",
        "\n",
        "2. **is_canceled :** If the booking was canceled (1) or not (0)\n",
        "\n",
        "3. **lead_time:** Number of days before the actual arrival of the guests\n",
        "\n",
        "4. **arrival_date_year :** Year of arrival date\n",
        "\n",
        "5. **arrival_date_month :** Month of month arrival date\n",
        "\n",
        "6. **arrival_date_week_number :** Week number of year for arrival date\n",
        "\n",
        "7. **arrival_date_day_of_month :** Day of arrival date\n",
        "\n",
        "8. **stays_in_weekend_nights :** Number of weekend nights (Saturday or Sunday) spent at the hotel by the guests.\n",
        "\n",
        "9. **stays_in_week_nights :** Number of weeknights (Monday to Friday) spent at the hotel by the guests.\n",
        "\n",
        "10. **adults :** Number of adults among guests\n",
        "\n",
        "11. **children :** Number of children among guests\n",
        "\n",
        "12. **babies :** Number of babies among guests\n",
        "\n",
        "13. **meal :** Type of meal booked\n",
        "\n",
        "14. **country :** Country of guests\n",
        "\n",
        "15. **market_segment :** Designation of market segment\n",
        "\n",
        "16. **distribution_channel :** Name of booking distribution channel\n",
        "\n",
        "17. **is_repeated_guest :** If the booking was from a repeated guest (1) or not (0)\n",
        "\n",
        "18. **previous_cancellations :** Number of previous bookings that were cancelled by the customer prior to the current booking\n",
        "\n",
        "19. **previous_bookings_not_canceled :** Number of previous bookings not cancelled by the customer prior to the current booking\n",
        "\n",
        "20. **reserved_room_type :** Code of room type reserved\n",
        "\n",
        "21. **assigned_room_type :** Code of room type assigned\n",
        "\n",
        "22. **booking_changes :** Number of changes/amendments made to the booking\n",
        "\n",
        "23. **deposit_type :** Type of the deposit made by the guest\n",
        "\n",
        "24. **agent :** ID of travel agent who made the booking\n",
        "\n",
        "25. **company :** ID of the company that made the booking\n",
        "\n",
        "26. **days_in_waiting_list :** Number of days the booking was in the waiting list\n",
        "\n",
        "27. **customer_type :** Type of customer, assuming one of four categories\n",
        "\n",
        "28. **adr :** Average Daily Rate, as defined by dividing the sum of all lodging transactions by the total number of staying nights\n",
        "\n",
        "29. **required_car_parking_spaces :** Number of car parking spaces required by the customer\n",
        "\n",
        "30. **total_of_special_requests :** Number of special requests made by the customer\n",
        "\n",
        "31. **reservation_status :** Reservation status (Canceled, Check-Out or No-Show)\n",
        "\n",
        "32. **reservation_status_date :** Date at which the last reservation status was updated\n",
        "\n",
        "    "
      ]
    },
    {
      "cell_type": "markdown",
      "metadata": {
        "id": "u3PMJOP6ngxN"
      },
      "source": [
        "### Check Unique Values for each variable."
      ]
    },
    {
      "cell_type": "code",
      "execution_count": 14,
      "metadata": {
        "colab": {
          "base_uri": "https://localhost:8080/"
        },
        "id": "zms12Yq5n-jE",
        "outputId": "acf9cb11-e6ac-432f-e75c-cc2b1d09722b"
      },
      "outputs": [
        {
          "output_type": "stream",
          "name": "stdout",
          "text": [
            "hotel                                                    [Resort Hotel, City Hotel]\n",
            "is_canceled                                                                  [0, 1]\n",
            "lead_time                         [342, 737, 7, 13, 14, 0, 9, 85, 75, 23, 35, 68...\n",
            "arrival_date_year                                                [2015, 2016, 2017]\n",
            "arrival_date_month                [July, August, September, October, November, D...\n",
            "arrival_date_week_number          [27, 28, 29, 30, 31, 32, 33, 34, 35, 36, 37, 3...\n",
            "arrival_date_day_of_month         [1, 2, 3, 4, 5, 6, 7, 8, 9, 10, 11, 12, 13, 14...\n",
            "stays_in_weekend_nights           [0, 1, 2, 4, 3, 6, 13, 8, 5, 7, 12, 9, 16, 18,...\n",
            "stays_in_week_nights              [0, 1, 2, 3, 4, 5, 10, 11, 8, 6, 7, 15, 9, 12,...\n",
            "adults                            [2, 1, 3, 4, 40, 26, 50, 27, 55, 0, 20, 6, 5, 10]\n",
            "children                                            [0.0, 1.0, 2.0, 10.0, 3.0, nan]\n",
            "babies                                                             [0, 1, 2, 10, 9]\n",
            "meal                                                    [BB, FB, HB, SC, Undefined]\n",
            "country                           [PRT, GBR, USA, ESP, IRL, FRA, nan, ROU, NOR, ...\n",
            "market_segment                    [Direct, Corporate, Online TA, Offline TA/TO, ...\n",
            "distribution_channel                     [Direct, Corporate, TA/TO, Undefined, GDS]\n",
            "is_repeated_guest                                                            [0, 1]\n",
            "previous_cancellations            [0, 1, 2, 3, 26, 25, 14, 4, 24, 19, 5, 21, 6, ...\n",
            "previous_bookings_not_canceled    [0, 1, 2, 3, 4, 5, 6, 7, 8, 9, 10, 11, 12, 13,...\n",
            "reserved_room_type                                   [C, A, D, E, G, F, H, L, P, B]\n",
            "assigned_room_type                             [C, A, D, E, G, F, I, B, H, P, L, K]\n",
            "booking_changes                   [3, 4, 0, 1, 2, 5, 17, 6, 8, 7, 10, 16, 9, 13,...\n",
            "deposit_type                                   [No Deposit, Refundable, Non Refund]\n",
            "agent                             [nan, 304.0, 240.0, 303.0, 15.0, 241.0, 8.0, 2...\n",
            "company                           [nan, 110.0, 113.0, 270.0, 178.0, 240.0, 154.0...\n",
            "days_in_waiting_list              [0, 50, 47, 65, 122, 75, 101, 150, 125, 14, 60...\n",
            "customer_type                         [Transient, Contract, Transient-Party, Group]\n",
            "adr                               [0.0, 75.0, 98.0, 107.0, 103.0, 82.0, 105.5, 1...\n",
            "required_car_parking_spaces                                         [0, 1, 2, 8, 3]\n",
            "total_of_special_requests                                        [0, 1, 3, 2, 4, 5]\n",
            "reservation_status                                   [Check-Out, Canceled, No-Show]\n",
            "reservation_status_date           [2015-07-01, 2015-07-02, 2015-07-03, 2015-05-0...\n",
            "dtype: object\n"
          ]
        }
      ],
      "source": [
        "# # Check Unique Values for each variable.\n",
        "print(hotel_booking_df.apply(lambda col: col.unique()))"
      ]
    },
    {
      "cell_type": "markdown",
      "metadata": {
        "id": "dauF4eBmngu3"
      },
      "source": [
        "## 3. ***Data Wrangling***"
      ]
    },
    {
      "cell_type": "markdown",
      "metadata": {
        "id": "bKJF3rekwFvQ"
      },
      "source": [
        "### Data Wrangling Code"
      ]
    },
    {
      "cell_type": "markdown",
      "metadata": {
        "id": "MrnFi6ZXzt4J"
      },
      "source": [
        "Dropping duplicates"
      ]
    },
    {
      "cell_type": "code",
      "execution_count": 15,
      "metadata": {
        "id": "pCLSUdCEMkjw"
      },
      "outputs": [],
      "source": [
        "# Dropping the duplicate values\n",
        "hotel_booking_df.drop_duplicates(inplace = True)"
      ]
    },
    {
      "cell_type": "code",
      "execution_count": 16,
      "metadata": {
        "colab": {
          "base_uri": "https://localhost:8080/"
        },
        "id": "9CicubqPerep",
        "outputId": "647389f4-b586-418a-d6a9-6a30e5c7fcab"
      },
      "outputs": [
        {
          "output_type": "stream",
          "name": "stdout",
          "text": [
            "After removing duplicates , number of rows are :  87396\n"
          ]
        }
      ],
      "source": [
        "# after removing duplicate , count of total rows\n",
        "print(f'After removing duplicates , number of rows are :  {hotel_booking_df.shape[0]}')"
      ]
    },
    {
      "cell_type": "markdown",
      "metadata": {
        "id": "ybQxpDouz1-f"
      },
      "source": [
        "Relacing null values"
      ]
    },
    {
      "cell_type": "code",
      "execution_count": 17,
      "metadata": {
        "id": "uY0XmiG0nNON"
      },
      "outputs": [],
      "source": [
        "# droping the company coloumn as it  has highest null values\n",
        "hotel_booking_df.drop(['company'], axis=1, inplace=True)\n",
        "\n",
        "# replacing null values in children column with 0  as there are only 4 missing values ,assuming that family had 0 children\n",
        "# replacing null values in agent column with 0 assuming those rooms were booked without company/agent\n",
        "hotel_booking_df[['children','agent']] = hotel_booking_df[['children','agent']].fillna(0)\n",
        "\n"
      ]
    },
    {
      "cell_type": "code",
      "source": [
        "# replacing null values in country column as 'Others' assuming that user didnt found their country name\n",
        "hotel_booking_df['country'].fillna('Others', inplace = True)"
      ],
      "metadata": {
        "id": "JohEDxQLZiK6"
      },
      "execution_count": 18,
      "outputs": []
    },
    {
      "cell_type": "code",
      "execution_count": 19,
      "metadata": {
        "colab": {
          "base_uri": "https://localhost:8080/"
        },
        "id": "59WEOAMopd2N",
        "outputId": "053abd97-48fd-4489-aa0c-171a5eb78eda"
      },
      "outputs": [
        {
          "output_type": "execute_result",
          "data": {
            "text/plain": [
              "hotel                             0\n",
              "is_repeated_guest                 0\n",
              "reservation_status                0\n",
              "total_of_special_requests         0\n",
              "required_car_parking_spaces       0\n",
              "adr                               0\n",
              "customer_type                     0\n",
              "days_in_waiting_list              0\n",
              "agent                             0\n",
              "deposit_type                      0\n",
              "booking_changes                   0\n",
              "assigned_room_type                0\n",
              "reserved_room_type                0\n",
              "previous_bookings_not_canceled    0\n",
              "previous_cancellations            0\n",
              "distribution_channel              0\n",
              "is_canceled                       0\n",
              "market_segment                    0\n",
              "country                           0\n",
              "meal                              0\n",
              "babies                            0\n",
              "children                          0\n",
              "adults                            0\n",
              "stays_in_week_nights              0\n",
              "stays_in_weekend_nights           0\n",
              "arrival_date_day_of_month         0\n",
              "arrival_date_week_number          0\n",
              "arrival_date_month                0\n",
              "arrival_date_year                 0\n",
              "lead_time                         0\n",
              "reservation_status_date           0\n",
              "dtype: int64"
            ]
          },
          "metadata": {},
          "execution_count": 19
        }
      ],
      "source": [
        "# checking that now there are no null values\n",
        "hotel_booking_df.isna().sum().sort_values(ascending=False)"
      ]
    },
    {
      "cell_type": "code",
      "source": [
        "# There are some rows with total number of adults, children or babies equal to zero\n",
        "# this means there is no any booking were made.\n",
        "# So we can remove such rows"
      ],
      "metadata": {
        "id": "HKigYmrdabFJ"
      },
      "execution_count": 20,
      "outputs": []
    },
    {
      "cell_type": "code",
      "execution_count": 21,
      "metadata": {
        "colab": {
          "base_uri": "https://localhost:8080/"
        },
        "id": "wCAnsfO916FX",
        "outputId": "509b7960-4a42-47b2-8564-0cb9b7343fcd"
      },
      "outputs": [
        {
          "output_type": "stream",
          "name": "stdout",
          "text": [
            "There are 166 rows which has zero value\n"
          ]
        }
      ],
      "source": [
        "# number of rows having with 0 in adult babies and children coloumn\n",
        "zero_entry=hotel_booking_df[hotel_booking_df['adults']+hotel_booking_df['babies']+hotel_booking_df['children'] == 0].shape[0]\n",
        "print(f\"There are {zero_entry} rows which has zero value\")"
      ]
    },
    {
      "cell_type": "code",
      "execution_count": 22,
      "metadata": {
        "id": "GmRpbfkPVwxw"
      },
      "outputs": [],
      "source": [
        "\n",
        "hotel_booking_df.drop(hotel_booking_df[hotel_booking_df['adults']+hotel_booking_df['babies']+hotel_booking_df['children'] == 0].index, inplace = True)"
      ]
    },
    {
      "cell_type": "markdown",
      "metadata": {
        "id": "q7M5cHUlt0ET"
      },
      "source": [
        "## changing data type"
      ]
    },
    {
      "cell_type": "code",
      "execution_count": 23,
      "metadata": {
        "colab": {
          "base_uri": "https://localhost:8080/"
        },
        "id": "6m1S6kAVt_Uh",
        "outputId": "191a10aa-f9df-48d5-90b9-59863a93535c"
      },
      "outputs": [
        {
          "output_type": "stream",
          "name": "stdout",
          "text": [
            "<class 'pandas.core.frame.DataFrame'>\n",
            "Int64Index: 87230 entries, 0 to 119389\n",
            "Data columns (total 31 columns):\n",
            " #   Column                          Non-Null Count  Dtype  \n",
            "---  ------                          --------------  -----  \n",
            " 0   hotel                           87230 non-null  object \n",
            " 1   is_canceled                     87230 non-null  int64  \n",
            " 2   lead_time                       87230 non-null  int64  \n",
            " 3   arrival_date_year               87230 non-null  int64  \n",
            " 4   arrival_date_month              87230 non-null  object \n",
            " 5   arrival_date_week_number        87230 non-null  int64  \n",
            " 6   arrival_date_day_of_month       87230 non-null  int64  \n",
            " 7   stays_in_weekend_nights         87230 non-null  int64  \n",
            " 8   stays_in_week_nights            87230 non-null  int64  \n",
            " 9   adults                          87230 non-null  int64  \n",
            " 10  children                        87230 non-null  float64\n",
            " 11  babies                          87230 non-null  int64  \n",
            " 12  meal                            87230 non-null  object \n",
            " 13  country                         87230 non-null  object \n",
            " 14  market_segment                  87230 non-null  object \n",
            " 15  distribution_channel            87230 non-null  object \n",
            " 16  is_repeated_guest               87230 non-null  int64  \n",
            " 17  previous_cancellations          87230 non-null  int64  \n",
            " 18  previous_bookings_not_canceled  87230 non-null  int64  \n",
            " 19  reserved_room_type              87230 non-null  object \n",
            " 20  assigned_room_type              87230 non-null  object \n",
            " 21  booking_changes                 87230 non-null  int64  \n",
            " 22  deposit_type                    87230 non-null  object \n",
            " 23  agent                           87230 non-null  float64\n",
            " 24  days_in_waiting_list            87230 non-null  int64  \n",
            " 25  customer_type                   87230 non-null  object \n",
            " 26  adr                             87230 non-null  float64\n",
            " 27  required_car_parking_spaces     87230 non-null  int64  \n",
            " 28  total_of_special_requests       87230 non-null  int64  \n",
            " 29  reservation_status              87230 non-null  object \n",
            " 30  reservation_status_date         87230 non-null  object \n",
            "dtypes: float64(3), int64(16), object(12)\n",
            "memory usage: 21.3+ MB\n"
          ]
        }
      ],
      "source": [
        "#showing the info of the data to check datatype\n",
        "hotel_booking_df.info()"
      ]
    },
    {
      "cell_type": "code",
      "execution_count": 24,
      "metadata": {
        "id": "t4ydmSpSt7mG"
      },
      "outputs": [],
      "source": [
        "# We have seen that childern & agent column as datatype as float whereas it contains only int value,so change datatype as int64\n",
        "hotel_booking_df[['children', 'agent']] = hotel_booking_df[['children', 'agent']].astype('int64')"
      ]
    },
    {
      "cell_type": "code",
      "execution_count": 25,
      "metadata": {
        "id": "ZQUFaEVucdeF"
      },
      "outputs": [],
      "source": [
        "# for our understanding, in column 'is_canceled' we will replace the value from (0,1) to not_canceled, is canceled.\n",
        "hotel_booking_df['is_canceled'] = hotel_booking_df['is_canceled'].replace([0,1], ['not canceled', 'is canceled'])\n"
      ]
    },
    {
      "cell_type": "code",
      "execution_count": 26,
      "metadata": {
        "id": "MZF4LgR6celp"
      },
      "outputs": [],
      "source": [
        "#Same for 'is_repeated_guest' column\n",
        "hotel_booking_df['is_repeated_guest'] = hotel_booking_df['is_repeated_guest'].replace([0,1], ['not repeated', 'repeated'])"
      ]
    },
    {
      "cell_type": "markdown",
      "metadata": {
        "id": "xjojFgjJtV7o"
      },
      "source": [
        "## addition of new coloumns"
      ]
    },
    {
      "cell_type": "code",
      "execution_count": 27,
      "metadata": {
        "id": "L99RSkn_cfHS"
      },
      "outputs": [],
      "source": [
        "#total stay in nights\n",
        "# We have created a col for total stays in nights by adding week night & weekend nights stay col.\n",
        "hotel_booking_df['total_stay_in_nights'] = hotel_booking_df ['stays_in_week_nights'] + hotel_booking_df ['stays_in_weekend_nights']"
      ]
    },
    {
      "cell_type": "code",
      "execution_count": 28,
      "metadata": {
        "colab": {
          "base_uri": "https://localhost:8080/"
        },
        "id": "W4ec_AKscoR2",
        "outputId": "b5c13e8a-429b-4c12-bcee-9125cb134166"
      },
      "outputs": [
        {
          "output_type": "execute_result",
          "data": {
            "text/plain": [
              "0            0.00\n",
              "1            0.00\n",
              "2           75.00\n",
              "3           75.00\n",
              "4          196.00\n",
              "           ...   \n",
              "119385     672.98\n",
              "119386    1578.01\n",
              "119387    1103.97\n",
              "119388     730.80\n",
              "119389    1360.80\n",
              "Name: revenue, Length: 87230, dtype: float64"
            ]
          },
          "metadata": {},
          "execution_count": 28
        }
      ],
      "source": [
        "# We have created a col for revenue using total stay * adr\n",
        "hotel_booking_df['revenue'] = hotel_booking_df['total_stay_in_nights'] *hotel_booking_df['adr']\n",
        "hotel_booking_df['revenue']"
      ]
    },
    {
      "cell_type": "code",
      "execution_count": 29,
      "metadata": {
        "id": "0wvNXurDcq-h"
      },
      "outputs": [],
      "source": [
        "# Also, for information, we will add a column with total number of guests coming for each booking\n",
        "hotel_booking_df['total_guest'] = hotel_booking_df['adults'] + hotel_booking_df['children'] + hotel_booking_df['babies']"
      ]
    },
    {
      "cell_type": "code",
      "execution_count": 30,
      "metadata": {
        "id": "G2wiHNgnd6vI"
      },
      "outputs": [],
      "source": [
        "#Now, we will check overall revenue hotel wise\n",
        "# hotel_wise_total_revenue = hotel_booking_df.groupby('hotel')['revenue'].sum()\n",
        "# hotel_wise_total_revenue"
      ]
    },
    {
      "cell_type": "markdown",
      "metadata": {
        "id": "MSa1f5Uengrz"
      },
      "source": [
        "### What all manipulations have you done and insights you found?"
      ]
    },
    {
      "cell_type": "markdown",
      "metadata": {
        "id": "SWaHmTkqendV"
      },
      "source": []
    },
    {
      "cell_type": "markdown",
      "metadata": {
        "id": "GF8Ens_Soomf"
      },
      "source": [
        "## ***4. Data Vizualization, Storytelling & Experimenting with charts : Understand the relationships between variables***"
      ]
    },
    {
      "cell_type": "markdown",
      "metadata": {
        "id": "ETv5nCx2lycX"
      },
      "source": [
        "### **UNIVARIATE ANALYSIS**"
      ]
    },
    {
      "cell_type": "markdown",
      "metadata": {
        "id": "0wOQAZs5pc--"
      },
      "source": [
        "### **Chart - 1**"
      ]
    },
    {
      "cell_type": "markdown",
      "metadata": {
        "id": "iiNW1edumHCY"
      },
      "source": [
        "\n",
        "**Which type of hotel is preffered by guests resort or city ?**"
      ]
    },
    {
      "cell_type": "code",
      "source": [
        "# count occurence of each hotel type in hotel column\n",
        "hotel_counts = hotel_booking_df['hotel'].value_counts()"
      ],
      "metadata": {
        "id": "qkdRtn__fWNR"
      },
      "execution_count": 61,
      "outputs": []
    },
    {
      "cell_type": "code",
      "execution_count": 60,
      "metadata": {
        "colab": {
          "base_uri": "https://localhost:8080/",
          "height": 526
        },
        "id": "YuZ83C_1OAeE",
        "outputId": "5ae67f5f-655a-4213-8420-dc213cf5e113"
      },
      "outputs": [
        {
          "output_type": "display_data",
          "data": {
            "text/plain": [
              "<Figure size 600x700 with 1 Axes>"
            ],
            "image/png": "[encoded data removed]"
          },
          "metadata": {}
        }
      ],
      "source": [
        "# visualize the data\n",
        "# Plot a pie chart\n",
        "plt.figure(figsize = (6,7))\n",
        "plt.pie(hotel_counts, labels=hotel_counts.index, autopct='%1.2f%%', startangle=50, explode=[0.05, 0.05], textprops={'fontsize': 14})\n",
        "plt.title('Preference for Hotel Types', fontsize=15, fontweight='bold')\n",
        "plt.legend(title='Hotel Type',bbox_to_anchor=(1.3, 0.7))\n",
        "\n",
        "# display the pie chart\n",
        "plt.show()\n"
      ]
    },
    {
      "cell_type": "markdown",
      "metadata": {
        "id": "K5QZ13OEpz2H"
      },
      "source": [
        "##### 1. Why did you pick the specific chart?"
      ]
    },
    {
      "cell_type": "markdown",
      "metadata": {
        "id": "XESiWehPqBRc"
      },
      "source": [
        "Pie chart helps in comparision of data and also it shows the fractional part of whole."
      ]
    },
    {
      "cell_type": "markdown",
      "metadata": {
        "id": "lQ7QKXXCp7Bj"
      },
      "source": [
        "##### 2. What is/are the insight(s) found from the chart?"
      ]
    },
    {
      "cell_type": "markdown",
      "metadata": {
        "id": "C_j1G7yiqdRP"
      },
      "source": [
        "We can clearly see from visualization that city hotel has higher number of bookings ie. 61.07%  and resort hotel has 38.93 % bookings only\n"
      ]
    },
    {
      "cell_type": "markdown",
      "metadata": {
        "id": "448CDAPjqfQr"
      },
      "source": [
        "##### 3. Will the gained insights help creating a positive business impact?\n",
        "Are there any insights that lead to negative growth? Justify with specific reason."
      ]
    },
    {
      "cell_type": "markdown",
      "metadata": {
        "id": "3cspy4FjqxJW"
      },
      "source": [
        "Gained sights helped in creating positive business impact as in city hotel it can provide more services to increase their revenue. In resort hotel it can improve thier services to attract more customers."
      ]
    },
    {
      "cell_type": "markdown",
      "metadata": {
        "id": "IpiF0zTAqpmJ"
      },
      "source": [
        "### **Chart - 2**"
      ]
    },
    {
      "cell_type": "markdown",
      "metadata": {
        "id": "0OBerOiHqssc"
      },
      "source": [
        "**How many guests repeated ?**"
      ]
    },
    {
      "cell_type": "code",
      "source": [
        "# count occurences of repeated and non repeated in is_repeated_col\n",
        "guest_repeat = hotel_booking_df['is_repeated_guest'].value_counts()"
      ],
      "metadata": {
        "id": "9vHXxCadxqVp"
      },
      "execution_count": 63,
      "outputs": []
    },
    {
      "cell_type": "code",
      "execution_count": 65,
      "metadata": {
        "colab": {
          "base_uri": "https://localhost:8080/",
          "height": 600
        },
        "id": "Q5QLSS6cq6-8",
        "outputId": "9440b45a-fbbc-4e15-8952-24376c42897e"
      },
      "outputs": [
        {
          "output_type": "display_data",
          "data": {
            "text/plain": [
              "<Figure size 700x700 with 1 Axes>"
            ],
            "image/png": "[encoded data removed]"
          },
          "metadata": {}
        }
      ],
      "source": [
        "# visualize the data\n",
        "# Plotting a pie chart\n",
        "plt.figure(figsize = (7,7))\n",
        "plt.pie(guest_repeat, labels=guest_repeat.index, autopct='%1.2f%%', startangle=140, explode=[0.2, 0.09], textprops={'fontsize': 14})\n",
        "plt.title('Repeated Customers vs Non Repeated Customers', fontsize=15, fontweight='bold')\n",
        "plt.legend()\n",
        "# display the pie chart\n",
        "plt.show()\n"
      ]
    },
    {
      "cell_type": "markdown",
      "metadata": {
        "id": "5PrfNoG3ty0e"
      },
      "source": [
        "##### 1. Why did you pick the specific chart?"
      ]
    },
    {
      "cell_type": "markdown",
      "metadata": {
        "id": "PRTpm2Jlty0f"
      },
      "source": [
        "**To show the percentage share of repeated & non-repeated guests pie chart helps for comparision**"
      ]
    },
    {
      "cell_type": "markdown",
      "metadata": {
        "id": "Gc6we5oXty0f"
      },
      "source": [
        "##### 2. What is/are the insight(s) found from the chart?"
      ]
    },
    {
      "cell_type": "markdown",
      "metadata": {
        "id": "3Zd0nNbUty0f"
      },
      "source": [
        "**The number of repeated guests is very less as compared to overall guests, its only 3.86%**\n"
      ]
    },
    {
      "cell_type": "markdown",
      "metadata": {
        "id": "0WtA7xjHty0f"
      },
      "source": [
        "##### 3. Will the gained insights help creating a positive business impact?\n",
        "Are there any insights that lead to negative growth? Justify with specific reason."
      ]
    },
    {
      "cell_type": "markdown",
      "metadata": {
        "id": "MVOQttMCty0f"
      },
      "source": [
        "Taking feedback from guests so that hotel can imporve their services.\n",
        "Giving seasonal discounts and offers,can attract non repeating customers to visit hotel again that will have postive impact on business"
      ]
    },
    {
      "cell_type": "markdown",
      "metadata": {
        "id": "KSlN3yHqYklG"
      },
      "source": [
        "#### **Chart - 3**"
      ]
    },
    {
      "cell_type": "markdown",
      "source": [
        "In which month most of the bookings happened?"
      ],
      "metadata": {
        "id": "bIwwFyB_11Nk"
      }
    },
    {
      "cell_type": "code",
      "source": [
        "\n",
        "# Grouping by arrival_date_month and counting bookings\n",
        "bookings_by_months_df = hotel_booking_df.groupby('arrival_date_month').size().reset_index(name='Counts')\n",
        "\n",
        "# Define the order of months\n",
        "months_order = ['January', 'February', 'March', 'April', 'May', 'June', 'July', 'August', 'September', 'October', 'November', 'December']\n",
        "\n",
        "# Map the order of months\n",
        "bookings_by_months_df['arrival_date_month'] = pd.Categorical(bookings_by_months_df['arrival_date_month'], categories=months_order, ordered=True)\n",
        "\n",
        "# Sort by month order\n",
        "\n",
        "bookings_by_months_df.sort_values('arrival_date_month', inplace=True)\n",
        "\n",
        "# Set plot size\n",
        "plt.figure(figsize=(13, 5))\n",
        "\n",
        "Plotting lineplot\n",
        "sns.lineplot(data=bookings_by_months_df, x='arrival_date_month', y='Counts')\n",
        "\n",
        "# Set title and labels\n",
        "plt.title('Number of bookings across each month',fontsize=15, fontweight='bold', color='navy')\n",
        "\n",
        "plt.xlabel('Month')\n",
        "plt.ylabel('Number of bookings')\n",
        "\n",
        "# Show plot\n",
        "plt.show()\n"
      ],
      "metadata": {
        "colab": {
          "base_uri": "https://localhost:8080/",
          "height": 211
        },
        "id": "-MYkNY6i2AUt",
        "outputId": "155e7669-239a-436b-a621-cab4f4d8d081"
      },
      "execution_count": 35,
      "outputs": [
        {
          "output_type": "error",
          "ename": "SyntaxError",
          "evalue": "invalid syntax (<ipython-input-35-f35aa34f7b1f>, line 17)",
          "traceback": [
            "\u001b[0;31m---------------------------------------------------------------------------\u001b[0m",
            "\u001b[0;31mSyntaxError\u001b[0m                               Traceback (most recent call last)",
            "\u001b[0;32m/usr/local/lib/python3.10/dist-packages/IPython/core/compilerop.py\u001b[0m in \u001b[0;36mast_parse\u001b[0;34m(self, source, filename, symbol)\u001b[0m\n\u001b[1;32m     99\u001b[0m         \u001b[0mArguments\u001b[0m \u001b[0mare\u001b[0m \u001b[0mexactly\u001b[0m \u001b[0mthe\u001b[0m \u001b[0msame\u001b[0m \u001b[0;32mas\u001b[0m \u001b[0mast\u001b[0m\u001b[0;34m.\u001b[0m\u001b[0mparse\u001b[0m \u001b[0;34m(\u001b[0m\u001b[0;32min\u001b[0m \u001b[0mthe\u001b[0m \u001b[0mstandard\u001b[0m \u001b[0mlibrary\u001b[0m\u001b[0;34m)\u001b[0m\u001b[0;34m,\u001b[0m\u001b[0;34m\u001b[0m\u001b[0;34m\u001b[0m\u001b[0m\n\u001b[1;32m    100\u001b[0m         and are passed to the built-in compile function.\"\"\"\n\u001b[0;32m--> 101\u001b[0;31m         \u001b[0;32mreturn\u001b[0m \u001b[0mcompile\u001b[0m\u001b[0;34m(\u001b[0m\u001b[0msource\u001b[0m\u001b[0;34m,\u001b[0m \u001b[0mfilename\u001b[0m\u001b[0;34m,\u001b[0m \u001b[0msymbol\u001b[0m\u001b[0;34m,\u001b[0m \u001b[0mself\u001b[0m\u001b[0;34m.\u001b[0m\u001b[0mflags\u001b[0m \u001b[0;34m|\u001b[0m \u001b[0mPyCF_ONLY_AST\u001b[0m\u001b[0;34m,\u001b[0m \u001b[0;36m1\u001b[0m\u001b[0;34m)\u001b[0m\u001b[0;34m\u001b[0m\u001b[0;34m\u001b[0m\u001b[0m\n\u001b[0m\u001b[1;32m    102\u001b[0m \u001b[0;34m\u001b[0m\u001b[0m\n\u001b[1;32m    103\u001b[0m     \u001b[0;32mdef\u001b[0m \u001b[0mreset_compiler_flags\u001b[0m\u001b[0;34m(\u001b[0m\u001b[0mself\u001b[0m\u001b[0;34m)\u001b[0m\u001b[0;34m:\u001b[0m\u001b[0;34m\u001b[0m\u001b[0;34m\u001b[0m\u001b[0m\n",
            "\u001b[0;31mSyntaxError\u001b[0m: invalid syntax (<ipython-input-35-f35aa34f7b1f>, line 17)"
          ]
        }
      ]
    },
    {
      "cell_type": "markdown",
      "metadata": {
        "id": "t6dVpIINYklI"
      },
      "source": [
        "##### 1. Why did you pick the specific chart?"
      ]
    },
    {
      "cell_type": "markdown",
      "metadata": {
        "id": "5aaW0BYyYklI"
      },
      "source": [
        "**A line chart is used to visualize the trend of bookings across each month over time.**"
      ]
    },
    {
      "cell_type": "markdown",
      "metadata": {
        "id": "ijmpgYnKYklI"
      },
      "source": [
        "##### 2. What is/are the insight(s) found from the chart?"
      ]
    },
    {
      "cell_type": "markdown",
      "metadata": {
        "id": "PSx9atu2YklI"
      },
      "source": [
        "**The above percentage July and Aug are the highest booking months.**"
      ]
    },
    {
      "cell_type": "markdown",
      "metadata": {
        "id": "-JiQyfWJYklI"
      },
      "source": [
        "##### 3. Will the gained insights help creating a positive business impact?\n",
        "Are there any insights that lead to negative growth? Justify with specific reason."
      ]
    },
    {
      "cell_type": "markdown",
      "metadata": {
        "id": "BcBbebzrYklV"
      },
      "source": [
        "**Understanding that July and August are the busiest months for bookings allows the hotel to charge higher prices for rooms during these times, which means they can make more money.**"
      ]
    },
    {
      "cell_type": "markdown",
      "metadata": {
        "id": "4Of9eVA-YrdM"
      },
      "source": [
        "#### **Chart - 4**"
      ]
    },
    {
      "cell_type": "markdown",
      "metadata": {
        "id": "DGxLO5AZyyIm"
      },
      "source": [
        "**What is the percentage of cancellation?**"
      ]
    },
    {
      "cell_type": "code",
      "source": [
        "# count of canceled and non-canceled bookings\n",
        "cancel_count = hotel_booking_df['is_canceled'].value_counts()"
      ],
      "metadata": {
        "id": "k1L08vdfylCX"
      },
      "execution_count": 72,
      "outputs": []
    },
    {
      "cell_type": "code",
      "execution_count": 73,
      "metadata": {
        "colab": {
          "base_uri": "https://localhost:8080/",
          "height": 526
        },
        "id": "irlUoxc8YrdO",
        "outputId": "39a57416-964d-428d-e28f-79d98da03cbc"
      },
      "outputs": [
        {
          "output_type": "display_data",
          "data": {
            "text/plain": [
              "<Figure size 600x700 with 1 Axes>"
            ],
            "image/png": "[encoded data removed]"
          },
          "metadata": {}
        }
      ],
      "source": [
        "# visualize the data\n",
        "# Plotting a pie chart\n",
        "plt.figure(figsize = (6,7))\n",
        "plt.pie(cancel_count, labels=cancel_count.index, autopct='%1.1f%%', startangle=20, explode=[0.05, 0.05], textprops={'fontsize': 12})\n",
        "plt.title('Cancellation by guests', fontsize=15, fontweight='bold')\n",
        "plt.legend()\n",
        "# display the pie chart\n",
        "plt.show()"
      ]
    },
    {
      "cell_type": "markdown",
      "metadata": {
        "id": "iky9q4vBYrdO"
      },
      "source": [
        "##### 1. Why did you pick the specific chart?"
      ]
    },
    {
      "cell_type": "markdown",
      "metadata": {
        "id": "aJRCwT6DYrdO"
      },
      "source": [
        "This chart presentes the cancellation rate of the hotels booking."
      ]
    },
    {
      "cell_type": "markdown",
      "metadata": {
        "id": "F6T5p64dYrdO"
      },
      "source": [
        "##### 2. What is/are the insight(s) found from the chart?"
      ]
    },
    {
      "cell_type": "markdown",
      "metadata": {
        "id": "Xx8WAJvtYrdO"
      },
      "source": [
        "Guests who cancelled are more than 27% ."
      ]
    },
    {
      "cell_type": "markdown",
      "metadata": {
        "id": "y-Ehk30pYrdP"
      },
      "source": [
        "##### 3. Will the gained insights help creating a positive business impact?\n",
        "Are there any insights that lead to negative growth? Justify with specific reason."
      ]
    },
    {
      "cell_type": "markdown",
      "metadata": {
        "id": "jLNxxz7MYrdP"
      },
      "source": [
        "Around 72.5% guests didnt cancel their booking so, its a positve impact on hotel. Cancellation rate is 27.5% , from business persecptive cancellation rate is quite high.\n",
        "We need to findout the reason of cancellation by taking feedback from guest."
      ]
    },
    {
      "cell_type": "markdown",
      "metadata": {
        "id": "m1Am4Tpd5Gn4"
      },
      "source": [
        "#### **Chart - 5**"
      ]
    },
    {
      "cell_type": "markdown",
      "source": [
        "**Which type of food is mostly preferred by the guests?**"
      ],
      "metadata": {
        "id": "lyDzcn2B5SD8"
      }
    },
    {
      "cell_type": "code",
      "source": [
        "# count occurences each meal type\n",
        "meal_count=hotel_booking_df['meal'].value_counts()\n",
        "meal_count"
      ],
      "metadata": {
        "colab": {
          "base_uri": "https://localhost:8080/"
        },
        "id": "ssxNyql-qbR5",
        "outputId": "c011056f-f770-417a-ed37-767986001e98"
      },
      "execution_count": 119,
      "outputs": [
        {
          "output_type": "execute_result",
          "data": {
            "text/plain": [
              "BB           67907\n",
              "SC            9391\n",
              "HB            9080\n",
              "Undefined      492\n",
              "FB             360\n",
              "Name: meal, dtype: int64"
            ]
          },
          "metadata": {},
          "execution_count": 119
        }
      ]
    },
    {
      "cell_type": "code",
      "source": [
        "# .visualize the data\n",
        "plt.figure(figsize=(10,6))\n",
        "sns.countplot(x=hotel_booking_df['meal'],order=meal_count.index,palette=\"muted\")\n",
        "\n",
        "plt.title(\"Most preferred Food\",fontsize=15, fontweight='bold')\n",
        "plt.xlabel('Type of the food', fontsize = 15)\n",
        "plt.ylabel('Food type count', fontsize = 15)\n",
        "plt.show()"
      ],
      "metadata": {
        "colab": {
          "base_uri": "https://localhost:8080/",
          "height": 572
        },
        "id": "qUQJGn-25fpD",
        "outputId": "850ab39c-4e55-45c2-cd13-f94697fb4764"
      },
      "execution_count": 118,
      "outputs": [
        {
          "output_type": "display_data",
          "data": {
            "text/plain": [
              "<Figure size 1000x600 with 1 Axes>"
            ],
            "image/png": "[encoded data removed]"
          },
          "metadata": {}
        }
      ]
    },
    {
      "cell_type": "markdown",
      "source": [
        "Types of meal in hotels:\n",
        "\n",
        "BB - (Bed and Breakfast)\n",
        "HB- (Half Board)\n",
        "FB- (Full Board)\n",
        "SC- (Self Catering)"
      ],
      "metadata": {
        "id": "_RGvBZ9o8wnl"
      }
    },
    {
      "cell_type": "markdown",
      "metadata": {
        "id": "itdoNyp-5GoF"
      },
      "source": [
        "##### 1. Why did you pick the specific chart?"
      ]
    },
    {
      "cell_type": "markdown",
      "metadata": {
        "id": "bssW3HyA5GoF"
      },
      "source": [
        "**I have choose barchart to visualize most preferred food because it displays the count of each observation for each category and here we have to find which food is most preferred\n"
      ]
    },
    {
      "cell_type": "markdown",
      "metadata": {
        "id": "sZUCa3lX5GoG"
      },
      "source": [
        "##### 2. What is/are the insight(s) found from the chart?"
      ]
    },
    {
      "cell_type": "markdown",
      "metadata": {
        "id": "nxnK82Py5GoG"
      },
      "source": [
        "Bed and Breakfast is the most preferred food by 67907 guests\n",
        "\n",
        "Self catering and Half board are equally preferred but very less in comparison to BB\n",
        "\n",
        "Full board is least preferred food i.e only 360 guest ordered it"
      ]
    },
    {
      "cell_type": "markdown",
      "metadata": {
        "id": "4d4Y7Ok25GoG"
      },
      "source": [
        "##### 3. Will the gained insights help creating a positive business impact?\n",
        "Are there any insights that lead to negative growth? Justify with specific reason."
      ]
    },
    {
      "cell_type": "markdown",
      "metadata": {
        "id": "ftmu3lL85GoH"
      },
      "source": [
        "BB type of food is most preferred food this makes positive impact on business.\n",
        "Undefined and FB type of food is less preferred this insight makes neative impact on business."
      ]
    },
    {
      "cell_type": "markdown",
      "metadata": {
        "id": "6Kt42iw0-jGt"
      },
      "source": [
        "### **Chart - 6**"
      ]
    },
    {
      "cell_type": "markdown",
      "source": [
        "**What is most preferred room type by guests?**"
      ],
      "metadata": {
        "id": "oOLLkO_u-jG3"
      }
    },
    {
      "cell_type": "code",
      "source": [
        "# count of room type booked by guest\n",
        "room_count=hotel_booking_df['assigned_room_type'].value_counts()\n",
        "room_count"
      ],
      "metadata": {
        "colab": {
          "base_uri": "https://localhost:8080/"
        },
        "id": "EP84EV0gtQ6c",
        "outputId": "fbbd0adb-6d66-432c-da8e-ca7df3cc850c"
      },
      "execution_count": 84,
      "outputs": [
        {
          "output_type": "execute_result",
          "data": {
            "text/plain": [
              "A    46283\n",
              "D    22419\n",
              "E     7190\n",
              "F     3627\n",
              "G     2495\n",
              "C     2160\n",
              "B     1811\n",
              "H      706\n",
              "I      353\n",
              "K      185\n",
              "L        1\n",
              "Name: assigned_room_type, dtype: int64"
            ]
          },
          "metadata": {},
          "execution_count": 84
        }
      ]
    },
    {
      "cell_type": "code",
      "source": [
        "# visualize the data\n",
        "plt.figure(figsize=(10,6))\n",
        "sns.countplot(x=hotel_booking_df['assigned_room_type'],order=room_count.index , palette='muted')\n",
        "plt.title(\"Most preferred Room type\",fontsize=15, fontweight='bold')\n",
        "plt.xlabel('Type of the Room', fontsize = 15)\n",
        "plt.ylabel('Room type count', fontsize = 15)\n",
        "\n",
        "plt.show()\n"
      ],
      "metadata": {
        "colab": {
          "base_uri": "https://localhost:8080/",
          "height": 572
        },
        "outputId": "8a907c66-2e7f-4cf1-c60f-b31d62001893",
        "id": "08p5QPYp-jG4"
      },
      "execution_count": 154,
      "outputs": [
        {
          "output_type": "display_data",
          "data": {
            "text/plain": [
              "<Figure size 1000x600 with 1 Axes>"
            ],
            "image/png": "[encoded data removed]"
          },
          "metadata": {}
        }
      ]
    },
    {
      "cell_type": "markdown",
      "metadata": {
        "id": "Y7CIzkVg-jG5"
      },
      "source": [
        "##### 1. Why did you pick the specific chart?"
      ]
    },
    {
      "cell_type": "markdown",
      "metadata": {
        "id": "KZ5vgglY-jG5"
      },
      "source": [
        " I have choose countplot to visualize most prefferd roomtype because countplot display the count of each observation for each category and here we have to represent room type vs room type count."
      ]
    },
    {
      "cell_type": "markdown",
      "metadata": {
        "id": "dOMQftpH-jG5"
      },
      "source": [
        "##### 2. What is/are the insight(s) found from the chart?"
      ]
    },
    {
      "cell_type": "markdown",
      "metadata": {
        "id": "DXmceukO-jG6"
      },
      "source": [
        "The insighte found from the chart is A type rooms are most prefered rooms and the count is 46283 and after that D type rooms are prefered by the guest and count is 22419.\n",
        "\n",
        "Least preffered room is K and L. K type room is preffered by only 185 and only 1 guest has booked L type room.\n"
      ]
    },
    {
      "cell_type": "markdown",
      "metadata": {
        "id": "2mna-aRg-jG6"
      },
      "source": [
        "##### 3. Will the gained insights help creating a positive business impact?\n",
        "Are there any insights that lead to negative growth? Justify with specific reason."
      ]
    },
    {
      "cell_type": "markdown",
      "metadata": {
        "id": "eD8qnZn_-jG6"
      },
      "source": [
        "A type rooms are most preferred rooms. This make positive impact on business.\n",
        "H,I,K,L type rooms are less preferred this insight makes neative impact.\n",
        "This is beacause type A rooms have 46283 bookings anf type L room has only one booking."
      ]
    },
    {
      "cell_type": "markdown",
      "metadata": {
        "id": "k6e5H8t6AxH8"
      },
      "source": [
        "### **Chart - 7**"
      ]
    },
    {
      "cell_type": "markdown",
      "source": [
        "**Which agent made the most bookings?**\n",
        "\n"
      ],
      "metadata": {
        "id": "qIT8hf9CA0cG"
      }
    },
    {
      "cell_type": "code",
      "source": [
        "# count top 10 agent with most bookings\n",
        "top_agent=hotel_booking_df['agent'].value_counts().reset_index().rename(columns={'index':'agent','agent':'num_of_bookings'})[:10]\n",
        "# rename column name for better understanding\n",
        "top_agent"
      ],
      "metadata": {
        "colab": {
          "base_uri": "https://localhost:8080/",
          "height": 363
        },
        "id": "6PdKsEhMwO8e",
        "outputId": "20fa753c-b2b8-444b-f61d-f64202608758"
      },
      "execution_count": 107,
      "outputs": [
        {
          "output_type": "execute_result",
          "data": {
            "text/plain": [
              "   agent  num_of_bookings\n",
              "0      9            28721\n",
              "1    240            13028\n",
              "2      0            12141\n",
              "3     14             3342\n",
              "4      7             3294\n",
              "5    250             2779\n",
              "6    241             1644\n",
              "7     28             1493\n",
              "8      8             1383\n",
              "9      1             1228"
            ],
            "text/html": [
              "\n",
              "  <div id=\"df-aa9b224f-4f5a-45f7-b08c-1ac4a6271366\" class=\"colab-df-container\">\n",
              "    <div>\n",
              "<style scoped>\n",
              "    .dataframe tbody tr th:only-of-type {\n",
              "        vertical-align: middle;\n",
              "    }\n",
              "\n",
              "    .dataframe tbody tr th {\n",
              "        vertical-align: top;\n",
              "    }\n",
              "\n",
              "    .dataframe thead th {\n",
              "        text-align: right;\n",
              "    }\n",
              "</style>\n",
              "<table border=\"1\" class=\"dataframe\">\n",
              "  <thead>\n",
              "    <tr style=\"text-align: right;\">\n",
              "      <th></th>\n",
              "      <th>agent</th>\n",
              "      <th>num_of_bookings</th>\n",
              "    </tr>\n",
              "  </thead>\n",
              "  <tbody>\n",
              "    <tr>\n",
              "      <th>0</th>\n",
              "      <td>9</td>\n",
              "      <td>28721</td>\n",
              "    </tr>\n",
              "    <tr>\n",
              "      <th>1</th>\n",
              "      <td>240</td>\n",
              "      <td>13028</td>\n",
              "    </tr>\n",
              "    <tr>\n",
              "      <th>2</th>\n",
              "      <td>0</td>\n",
              "      <td>12141</td>\n",
              "    </tr>\n",
              "    <tr>\n",
              "      <th>3</th>\n",
              "      <td>14</td>\n",
              "      <td>3342</td>\n",
              "    </tr>\n",
              "    <tr>\n",
              "      <th>4</th>\n",
              "      <td>7</td>\n",
              "      <td>3294</td>\n",
              "    </tr>\n",
              "    <tr>\n",
              "      <th>5</th>\n",
              "      <td>250</td>\n",
              "      <td>2779</td>\n",
              "    </tr>\n",
              "    <tr>\n",
              "      <th>6</th>\n",
              "      <td>241</td>\n",
              "      <td>1644</td>\n",
              "    </tr>\n",
              "    <tr>\n",
              "      <th>7</th>\n",
              "      <td>28</td>\n",
              "      <td>1493</td>\n",
              "    </tr>\n",
              "    <tr>\n",
              "      <th>8</th>\n",
              "      <td>8</td>\n",
              "      <td>1383</td>\n",
              "    </tr>\n",
              "    <tr>\n",
              "      <th>9</th>\n",
              "      <td>1</td>\n",
              "      <td>1228</td>\n",
              "    </tr>\n",
              "  </tbody>\n",
              "</table>\n",
              "</div>\n",
              "    <div class=\"colab-df-buttons\">\n",
              "\n",
              "  <div class=\"colab-df-container\">\n",
              "    <button class=\"colab-df-convert\" onclick=\"convertToInteractive('df-aa9b224f-4f5a-45f7-b08c-1ac4a6271366')\"\n",
              "            title=\"Convert this dataframe to an interactive table.\"\n",
              "            style=\"display:none;\">\n",
              "\n",
              "  <svg xmlns=\"http://www.w3.org/2000/svg\" height=\"24px\" viewBox=\"0 -960 960 960\">\n",
              "    <path d=\"M120-120v-720h720v720H120Zm60-500h600v-160H180v160Zm220 220h160v-160H400v160Zm0 220h160v-160H400v160ZM180-400h160v-160H180v160Zm440 0h160v-160H620v160ZM180-180h160v-160H180v160Zm440 0h160v-160H620v160Z\"/>\n",
              "  </svg>\n",
              "    </button>\n",
              "\n",
              "  <style>\n",
              "    .colab-df-container {\n",
              "      display:flex;\n",
              "      gap: 12px;\n",
              "    }\n",
              "\n",
              "    .colab-df-convert {\n",
              "      background-color: #E8F0FE;\n",
              "      border: none;\n",
              "      border-radius: 50%;\n",
              "      cursor: pointer;\n",
              "      display: none;\n",
              "      fill: #1967D2;\n",
              "      height: 32px;\n",
              "      padding: 0 0 0 0;\n",
              "      width: 32px;\n",
              "    }\n",
              "\n",
              "    .colab-df-convert:hover {\n",
              "      background-color: #E2EBFA;\n",
              "      box-shadow: 0px 1px 2px rgba(60, 64, 67, 0.3), 0px 1px 3px 1px rgba(60, 64, 67, 0.15);\n",
              "      fill: #174EA6;\n",
              "    }\n",
              "\n",
              "    .colab-df-buttons div {\n",
              "      margin-bottom: 4px;\n",
              "    }\n",
              "\n",
              "    [theme=dark] .colab-df-convert {\n",
              "      background-color: #3B4455;\n",
              "      fill: #D2E3FC;\n",
              "    }\n",
              "\n",
              "    [theme=dark] .colab-df-convert:hover {\n",
              "      background-color: #434B5C;\n",
              "      box-shadow: 0px 1px 3px 1px rgba(0, 0, 0, 0.15);\n",
              "      filter: drop-shadow(0px 1px 2px rgba(0, 0, 0, 0.3));\n",
              "      fill: #FFFFFF;\n",
              "    }\n",
              "  </style>\n",
              "\n",
              "    <script>\n",
              "      const buttonEl =\n",
              "        document.querySelector('#df-aa9b224f-4f5a-45f7-b08c-1ac4a6271366 button.colab-df-convert');\n",
              "      buttonEl.style.display =\n",
              "        google.colab.kernel.accessAllowed ? 'block' : 'none';\n",
              "\n",
              "      async function convertToInteractive(key) {\n",
              "        const element = document.querySelector('#df-aa9b224f-4f5a-45f7-b08c-1ac4a6271366');\n",
              "        const dataTable =\n",
              "          await google.colab.kernel.invokeFunction('convertToInteractive',\n",
              "                                                    [key], {});\n",
              "        if (!dataTable) return;\n",
              "\n",
              "        const docLinkHtml = 'Like what you see? Visit the ' +\n",
              "          '<a target=\"_blank\" href=https://colab.research.google.com/notebooks/data_table.ipynb>data table notebook</a>'\n",
              "          + ' to learn more about interactive tables.';\n",
              "        element.innerHTML = '';\n",
              "        dataTable['output_type'] = 'display_data';\n",
              "        await google.colab.output.renderOutput(dataTable, element);\n",
              "        const docLink = document.createElement('div');\n",
              "        docLink.innerHTML = docLinkHtml;\n",
              "        element.appendChild(docLink);\n",
              "      }\n",
              "    </script>\n",
              "  </div>\n",
              "\n",
              "\n",
              "<div id=\"df-6f8e9347-815b-4a47-b0c4-0cc97f0b1ca0\">\n",
              "  <button class=\"colab-df-quickchart\" onclick=\"quickchart('df-6f8e9347-815b-4a47-b0c4-0cc97f0b1ca0')\"\n",
              "            title=\"Suggest charts\"\n",
              "            style=\"display:none;\">\n",
              "\n",
              "<svg xmlns=\"http://www.w3.org/2000/svg\" height=\"24px\"viewBox=\"0 0 24 24\"\n",
              "     width=\"24px\">\n",
              "    <g>\n",
              "        <path d=\"M19 3H5c-1.1 0-2 .9-2 2v14c0 1.1.9 2 2 2h14c1.1 0 2-.9 2-2V5c0-1.1-.9-2-2-2zM9 17H7v-7h2v7zm4 0h-2V7h2v10zm4 0h-2v-4h2v4z\"/>\n",
              "    </g>\n",
              "</svg>\n",
              "  </button>\n",
              "\n",
              "<style>\n",
              "  .colab-df-quickchart {\n",
              "      --bg-color: #E8F0FE;\n",
              "      --fill-color: #1967D2;\n",
              "      --hover-bg-color: #E2EBFA;\n",
              "      --hover-fill-color: #174EA6;\n",
              "      --disabled-fill-color: #AAA;\n",
              "      --disabled-bg-color: #DDD;\n",
              "  }\n",
              "\n",
              "  [theme=dark] .colab-df-quickchart {\n",
              "      --bg-color: #3B4455;\n",
              "      --fill-color: #D2E3FC;\n",
              "      --hover-bg-color: #434B5C;\n",
              "      --hover-fill-color: #FFFFFF;\n",
              "      --disabled-bg-color: #3B4455;\n",
              "      --disabled-fill-color: #666;\n",
              "  }\n",
              "\n",
              "  .colab-df-quickchart {\n",
              "    background-color: var(--bg-color);\n",
              "    border: none;\n",
              "    border-radius: 50%;\n",
              "    cursor: pointer;\n",
              "    display: none;\n",
              "    fill: var(--fill-color);\n",
              "    height: 32px;\n",
              "    padding: 0;\n",
              "    width: 32px;\n",
              "  }\n",
              "\n",
              "  .colab-df-quickchart:hover {\n",
              "    background-color: var(--hover-bg-color);\n",
              "    box-shadow: 0 1px 2px rgba(60, 64, 67, 0.3), 0 1px 3px 1px rgba(60, 64, 67, 0.15);\n",
              "    fill: var(--button-hover-fill-color);\n",
              "  }\n",
              "\n",
              "  .colab-df-quickchart-complete:disabled,\n",
              "  .colab-df-quickchart-complete:disabled:hover {\n",
              "    background-color: var(--disabled-bg-color);\n",
              "    fill: var(--disabled-fill-color);\n",
              "    box-shadow: none;\n",
              "  }\n",
              "\n",
              "  .colab-df-spinner {\n",
              "    border: 2px solid var(--fill-color);\n",
              "    border-color: transparent;\n",
              "    border-bottom-color: var(--fill-color);\n",
              "    animation:\n",
              "      spin 1s steps(1) infinite;\n",
              "  }\n",
              "\n",
              "  @keyframes spin {\n",
              "    0% {\n",
              "      border-color: transparent;\n",
              "      border-bottom-color: var(--fill-color);\n",
              "      border-left-color: var(--fill-color);\n",
              "    }\n",
              "    20% {\n",
              "      border-color: transparent;\n",
              "      border-left-color: var(--fill-color);\n",
              "      border-top-color: var(--fill-color);\n",
              "    }\n",
              "    30% {\n",
              "      border-color: transparent;\n",
              "      border-left-color: var(--fill-color);\n",
              "      border-top-color: var(--fill-color);\n",
              "      border-right-color: var(--fill-color);\n",
              "    }\n",
              "    40% {\n",
              "      border-color: transparent;\n",
              "      border-right-color: var(--fill-color);\n",
              "      border-top-color: var(--fill-color);\n",
              "    }\n",
              "    60% {\n",
              "      border-color: transparent;\n",
              "      border-right-color: var(--fill-color);\n",
              "    }\n",
              "    80% {\n",
              "      border-color: transparent;\n",
              "      border-right-color: var(--fill-color);\n",
              "      border-bottom-color: var(--fill-color);\n",
              "    }\n",
              "    90% {\n",
              "      border-color: transparent;\n",
              "      border-bottom-color: var(--fill-color);\n",
              "    }\n",
              "  }\n",
              "</style>\n",
              "\n",
              "  <script>\n",
              "    async function quickchart(key) {\n",
              "      const quickchartButtonEl =\n",
              "        document.querySelector('#' + key + ' button');\n",
              "      quickchartButtonEl.disabled = true;  // To prevent multiple clicks.\n",
              "      quickchartButtonEl.classList.add('colab-df-spinner');\n",
              "      try {\n",
              "        const charts = await google.colab.kernel.invokeFunction(\n",
              "            'suggestCharts', [key], {});\n",
              "      } catch (error) {\n",
              "        console.error('Error during call to suggestCharts:', error);\n",
              "      }\n",
              "      quickchartButtonEl.classList.remove('colab-df-spinner');\n",
              "      quickchartButtonEl.classList.add('colab-df-quickchart-complete');\n",
              "    }\n",
              "    (() => {\n",
              "      let quickchartButtonEl =\n",
              "        document.querySelector('#df-6f8e9347-815b-4a47-b0c4-0cc97f0b1ca0 button');\n",
              "      quickchartButtonEl.style.display =\n",
              "        google.colab.kernel.accessAllowed ? 'block' : 'none';\n",
              "    })();\n",
              "  </script>\n",
              "</div>\n",
              "\n",
              "  <div id=\"id_de018819-c97f-4daf-9ab1-c76f3740a129\">\n",
              "    <style>\n",
              "      .colab-df-generate {\n",
              "        background-color: #E8F0FE;\n",
              "        border: none;\n",
              "        border-radius: 50%;\n",
              "        cursor: pointer;\n",
              "        display: none;\n",
              "        fill: #1967D2;\n",
              "        height: 32px;\n",
              "        padding: 0 0 0 0;\n",
              "        width: 32px;\n",
              "      }\n",
              "\n",
              "      .colab-df-generate:hover {\n",
              "        background-color: #E2EBFA;\n",
              "        box-shadow: 0px 1px 2px rgba(60, 64, 67, 0.3), 0px 1px 3px 1px rgba(60, 64, 67, 0.15);\n",
              "        fill: #174EA6;\n",
              "      }\n",
              "\n",
              "      [theme=dark] .colab-df-generate {\n",
              "        background-color: #3B4455;\n",
              "        fill: #D2E3FC;\n",
              "      }\n",
              "\n",
              "      [theme=dark] .colab-df-generate:hover {\n",
              "        background-color: #434B5C;\n",
              "        box-shadow: 0px 1px 3px 1px rgba(0, 0, 0, 0.15);\n",
              "        filter: drop-shadow(0px 1px 2px rgba(0, 0, 0, 0.3));\n",
              "        fill: #FFFFFF;\n",
              "      }\n",
              "    </style>\n",
              "    <button class=\"colab-df-generate\" onclick=\"generateWithVariable('top_agent')\"\n",
              "            title=\"Generate code using this dataframe.\"\n",
              "            style=\"display:none;\">\n",
              "\n",
              "  <svg xmlns=\"http://www.w3.org/2000/svg\" height=\"24px\"viewBox=\"0 0 24 24\"\n",
              "       width=\"24px\">\n",
              "    <path d=\"M7,19H8.4L18.45,9,17,7.55,7,17.6ZM5,21V16.75L18.45,3.32a2,2,0,0,1,2.83,0l1.4,1.43a1.91,1.91,0,0,1,.58,1.4,1.91,1.91,0,0,1-.58,1.4L9.25,21ZM18.45,9,17,7.55Zm-12,3A5.31,5.31,0,0,0,4.9,8.1,5.31,5.31,0,0,0,1,6.5,5.31,5.31,0,0,0,4.9,4.9,5.31,5.31,0,0,0,6.5,1,5.31,5.31,0,0,0,8.1,4.9,5.31,5.31,0,0,0,12,6.5,5.46,5.46,0,0,0,6.5,12Z\"/>\n",
              "  </svg>\n",
              "    </button>\n",
              "    <script>\n",
              "      (() => {\n",
              "      const buttonEl =\n",
              "        document.querySelector('#id_de018819-c97f-4daf-9ab1-c76f3740a129 button.colab-df-generate');\n",
              "      buttonEl.style.display =\n",
              "        google.colab.kernel.accessAllowed ? 'block' : 'none';\n",
              "\n",
              "      buttonEl.onclick = () => {\n",
              "        google.colab.notebook.generateWithVariable('top_agent');\n",
              "      }\n",
              "      })();\n",
              "    </script>\n",
              "  </div>\n",
              "\n",
              "    </div>\n",
              "  </div>\n"
            ],
            "application/vnd.google.colaboratory.intrinsic+json": {
              "type": "dataframe",
              "variable_name": "top_agent",
              "summary": "{\n  \"name\": \"top_agent\",\n  \"rows\": 10,\n  \"fields\": [\n    {\n      \"column\": \"agent\",\n      \"properties\": {\n        \"dtype\": \"number\",\n        \"std\": 113,\n        \"min\": 0,\n        \"max\": 250,\n        \"samples\": [\n          8,\n          240,\n          250\n        ],\n        \"num_unique_values\": 10,\n        \"semantic_type\": \"\",\n        \"description\": \"\"\n      }\n    },\n    {\n      \"column\": \"num_of_bookings\",\n      \"properties\": {\n        \"dtype\": \"number\",\n        \"std\": 8839,\n        \"min\": 1228,\n        \"max\": 28721,\n        \"samples\": [\n          1383,\n          13028,\n          2779\n        ],\n        \"num_unique_values\": 10,\n        \"semantic_type\": \"\",\n        \"description\": \"\"\n      }\n    }\n  ]\n}"
            }
          },
          "metadata": {},
          "execution_count": 107
        }
      ]
    },
    {
      "cell_type": "code",
      "source": [
        "# visualize the data\n",
        "plt.figure(figsize=(10,7))\n",
        "sns.countplot(x=hotel_booking_df['agent'],order=hotel_booking_df['agent'].value_counts().index[:10], palette='muted')\n",
        "plt.title('Top 10 agent with most bookings',fontsize=15, fontweight='bold')\n",
        "\n",
        "plt.ylabel('Number of bookings', fontsize=15)\n",
        "plt.xlabel('Agent number', fontsize=15)\n",
        "\n",
        "plt.show()"
      ],
      "metadata": {
        "colab": {
          "base_uri": "https://localhost:8080/",
          "height": 649
        },
        "id": "d1m4ovBZAf8o",
        "outputId": "ba9e2148-d70c-4b79-f780-38110d55dd9e"
      },
      "execution_count": 153,
      "outputs": [
        {
          "output_type": "display_data",
          "data": {
            "text/plain": [
              "<Figure size 1000x700 with 1 Axes>"
            ],
            "image/png": "[encoded data removed]"
          },
          "metadata": {}
        }
      ]
    },
    {
      "cell_type": "markdown",
      "metadata": {
        "id": "bbFf2-_FphqN"
      },
      "source": [
        "##### 1. Why did you pick the specific chart?"
      ]
    },
    {
      "cell_type": "markdown",
      "metadata": {
        "id": "loh7H2nzphqN"
      },
      "source": [
        "I choose barplot here because it gives data visualization in pictorial form and due to this comparison of data is easy."
      ]
    },
    {
      "cell_type": "markdown",
      "metadata": {
        "id": "_ouA3fa0phqN"
      },
      "source": [
        "##### 2. What is/are the insight(s) found from the chart?"
      ]
    },
    {
      "cell_type": "markdown",
      "metadata": {
        "id": "VECbqPI7phqN"
      },
      "source": [
        "he insight found here is Agent no. 9 made most of the bookings."
      ]
    },
    {
      "cell_type": "markdown",
      "metadata": {
        "id": "Seke61FWphqN"
      },
      "source": [
        "##### 3. Will the gained insights help creating a positive business impact?\n",
        "Are there any insights that lead to negative growth? Justify with specific reason."
      ]
    },
    {
      "cell_type": "markdown",
      "source": [
        "* Yes, Agent no.9, 240 has more bookins which makes positive impact.**\n",
        "* Aent no. 1 and 6 has less bookins which makes neative impact.**\n",
        "* Booking made by agent no 1 and 6 are about 4.27% of agent no 9 which has hihest bookings."
      ],
      "metadata": {
        "id": "ye_r_ZcACQls"
      }
    },
    {
      "cell_type": "markdown",
      "source": [
        "### **Chart - 8**"
      ],
      "metadata": {
        "id": "0jnE9TZjuVnH"
      }
    },
    {
      "cell_type": "markdown",
      "source": [
        "**From which country most of the guests are coming?**"
      ],
      "metadata": {
        "id": "9XqMvL9YuVnO"
      }
    },
    {
      "cell_type": "code",
      "source": [
        "# Count occurrences of top 10 country in the country column\n",
        "top_ten_country=hotel_booking_df['country'].value_counts().reset_index().rename(columns={'index': 'country','country': 'count of guests'})[:10]\n",
        "top_ten_country"
      ],
      "metadata": {
        "colab": {
          "base_uri": "https://localhost:8080/",
          "height": 363
        },
        "id": "H7lvZr54t2he",
        "outputId": "ca77adcd-ddfb-47da-923c-6c5431d7f2e8"
      },
      "execution_count": 156,
      "outputs": [
        {
          "output_type": "execute_result",
          "data": {
            "text/plain": [
              "  country  count of guests\n",
              "0     PRT            27355\n",
              "1     GBR            10424\n",
              "2     FRA             8823\n",
              "3     ESP             7244\n",
              "4     DEU             5385\n",
              "5     ITA             3061\n",
              "6     IRL             3015\n",
              "7     BEL             2081\n",
              "8     BRA             1993\n",
              "9     NLD             1910"
            ],
            "text/html": [
              "\n",
              "  <div id=\"df-125d84ed-d483-4ef7-a313-050afde07ac7\" class=\"colab-df-container\">\n",
              "    <div>\n",
              "<style scoped>\n",
              "    .dataframe tbody tr th:only-of-type {\n",
              "        vertical-align: middle;\n",
              "    }\n",
              "\n",
              "    .dataframe tbody tr th {\n",
              "        vertical-align: top;\n",
              "    }\n",
              "\n",
              "    .dataframe thead th {\n",
              "        text-align: right;\n",
              "    }\n",
              "</style>\n",
              "<table border=\"1\" class=\"dataframe\">\n",
              "  <thead>\n",
              "    <tr style=\"text-align: right;\">\n",
              "      <th></th>\n",
              "      <th>country</th>\n",
              "      <th>count of guests</th>\n",
              "    </tr>\n",
              "  </thead>\n",
              "  <tbody>\n",
              "    <tr>\n",
              "      <th>0</th>\n",
              "      <td>PRT</td>\n",
              "      <td>27355</td>\n",
              "    </tr>\n",
              "    <tr>\n",
              "      <th>1</th>\n",
              "      <td>GBR</td>\n",
              "      <td>10424</td>\n",
              "    </tr>\n",
              "    <tr>\n",
              "      <th>2</th>\n",
              "      <td>FRA</td>\n",
              "      <td>8823</td>\n",
              "    </tr>\n",
              "    <tr>\n",
              "      <th>3</th>\n",
              "      <td>ESP</td>\n",
              "      <td>7244</td>\n",
              "    </tr>\n",
              "    <tr>\n",
              "      <th>4</th>\n",
              "      <td>DEU</td>\n",
              "      <td>5385</td>\n",
              "    </tr>\n",
              "    <tr>\n",
              "      <th>5</th>\n",
              "      <td>ITA</td>\n",
              "      <td>3061</td>\n",
              "    </tr>\n",
              "    <tr>\n",
              "      <th>6</th>\n",
              "      <td>IRL</td>\n",
              "      <td>3015</td>\n",
              "    </tr>\n",
              "    <tr>\n",
              "      <th>7</th>\n",
              "      <td>BEL</td>\n",
              "      <td>2081</td>\n",
              "    </tr>\n",
              "    <tr>\n",
              "      <th>8</th>\n",
              "      <td>BRA</td>\n",
              "      <td>1993</td>\n",
              "    </tr>\n",
              "    <tr>\n",
              "      <th>9</th>\n",
              "      <td>NLD</td>\n",
              "      <td>1910</td>\n",
              "    </tr>\n",
              "  </tbody>\n",
              "</table>\n",
              "</div>\n",
              "    <div class=\"colab-df-buttons\">\n",
              "\n",
              "  <div class=\"colab-df-container\">\n",
              "    <button class=\"colab-df-convert\" onclick=\"convertToInteractive('df-125d84ed-d483-4ef7-a313-050afde07ac7')\"\n",
              "            title=\"Convert this dataframe to an interactive table.\"\n",
              "            style=\"display:none;\">\n",
              "\n",
              "  <svg xmlns=\"http://www.w3.org/2000/svg\" height=\"24px\" viewBox=\"0 -960 960 960\">\n",
              "    <path d=\"M120-120v-720h720v720H120Zm60-500h600v-160H180v160Zm220 220h160v-160H400v160Zm0 220h160v-160H400v160ZM180-400h160v-160H180v160Zm440 0h160v-160H620v160ZM180-180h160v-160H180v160Zm440 0h160v-160H620v160Z\"/>\n",
              "  </svg>\n",
              "    </button>\n",
              "\n",
              "  <style>\n",
              "    .colab-df-container {\n",
              "      display:flex;\n",
              "      gap: 12px;\n",
              "    }\n",
              "\n",
              "    .colab-df-convert {\n",
              "      background-color: #E8F0FE;\n",
              "      border: none;\n",
              "      border-radius: 50%;\n",
              "      cursor: pointer;\n",
              "      display: none;\n",
              "      fill: #1967D2;\n",
              "      height: 32px;\n",
              "      padding: 0 0 0 0;\n",
              "      width: 32px;\n",
              "    }\n",
              "\n",
              "    .colab-df-convert:hover {\n",
              "      background-color: #E2EBFA;\n",
              "      box-shadow: 0px 1px 2px rgba(60, 64, 67, 0.3), 0px 1px 3px 1px rgba(60, 64, 67, 0.15);\n",
              "      fill: #174EA6;\n",
              "    }\n",
              "\n",
              "    .colab-df-buttons div {\n",
              "      margin-bottom: 4px;\n",
              "    }\n",
              "\n",
              "    [theme=dark] .colab-df-convert {\n",
              "      background-color: #3B4455;\n",
              "      fill: #D2E3FC;\n",
              "    }\n",
              "\n",
              "    [theme=dark] .colab-df-convert:hover {\n",
              "      background-color: #434B5C;\n",
              "      box-shadow: 0px 1px 3px 1px rgba(0, 0, 0, 0.15);\n",
              "      filter: drop-shadow(0px 1px 2px rgba(0, 0, 0, 0.3));\n",
              "      fill: #FFFFFF;\n",
              "    }\n",
              "  </style>\n",
              "\n",
              "    <script>\n",
              "      const buttonEl =\n",
              "        document.querySelector('#df-125d84ed-d483-4ef7-a313-050afde07ac7 button.colab-df-convert');\n",
              "      buttonEl.style.display =\n",
              "        google.colab.kernel.accessAllowed ? 'block' : 'none';\n",
              "\n",
              "      async function convertToInteractive(key) {\n",
              "        const element = document.querySelector('#df-125d84ed-d483-4ef7-a313-050afde07ac7');\n",
              "        const dataTable =\n",
              "          await google.colab.kernel.invokeFunction('convertToInteractive',\n",
              "                                                    [key], {});\n",
              "        if (!dataTable) return;\n",
              "\n",
              "        const docLinkHtml = 'Like what you see? Visit the ' +\n",
              "          '<a target=\"_blank\" href=https://colab.research.google.com/notebooks/data_table.ipynb>data table notebook</a>'\n",
              "          + ' to learn more about interactive tables.';\n",
              "        element.innerHTML = '';\n",
              "        dataTable['output_type'] = 'display_data';\n",
              "        await google.colab.output.renderOutput(dataTable, element);\n",
              "        const docLink = document.createElement('div');\n",
              "        docLink.innerHTML = docLinkHtml;\n",
              "        element.appendChild(docLink);\n",
              "      }\n",
              "    </script>\n",
              "  </div>\n",
              "\n",
              "\n",
              "<div id=\"df-b2f021e3-bb64-4071-ae66-c8d4c3065ddf\">\n",
              "  <button class=\"colab-df-quickchart\" onclick=\"quickchart('df-b2f021e3-bb64-4071-ae66-c8d4c3065ddf')\"\n",
              "            title=\"Suggest charts\"\n",
              "            style=\"display:none;\">\n",
              "\n",
              "<svg xmlns=\"http://www.w3.org/2000/svg\" height=\"24px\"viewBox=\"0 0 24 24\"\n",
              "     width=\"24px\">\n",
              "    <g>\n",
              "        <path d=\"M19 3H5c-1.1 0-2 .9-2 2v14c0 1.1.9 2 2 2h14c1.1 0 2-.9 2-2V5c0-1.1-.9-2-2-2zM9 17H7v-7h2v7zm4 0h-2V7h2v10zm4 0h-2v-4h2v4z\"/>\n",
              "    </g>\n",
              "</svg>\n",
              "  </button>\n",
              "\n",
              "<style>\n",
              "  .colab-df-quickchart {\n",
              "      --bg-color: #E8F0FE;\n",
              "      --fill-color: #1967D2;\n",
              "      --hover-bg-color: #E2EBFA;\n",
              "      --hover-fill-color: #174EA6;\n",
              "      --disabled-fill-color: #AAA;\n",
              "      --disabled-bg-color: #DDD;\n",
              "  }\n",
              "\n",
              "  [theme=dark] .colab-df-quickchart {\n",
              "      --bg-color: #3B4455;\n",
              "      --fill-color: #D2E3FC;\n",
              "      --hover-bg-color: #434B5C;\n",
              "      --hover-fill-color: #FFFFFF;\n",
              "      --disabled-bg-color: #3B4455;\n",
              "      --disabled-fill-color: #666;\n",
              "  }\n",
              "\n",
              "  .colab-df-quickchart {\n",
              "    background-color: var(--bg-color);\n",
              "    border: none;\n",
              "    border-radius: 50%;\n",
              "    cursor: pointer;\n",
              "    display: none;\n",
              "    fill: var(--fill-color);\n",
              "    height: 32px;\n",
              "    padding: 0;\n",
              "    width: 32px;\n",
              "  }\n",
              "\n",
              "  .colab-df-quickchart:hover {\n",
              "    background-color: var(--hover-bg-color);\n",
              "    box-shadow: 0 1px 2px rgba(60, 64, 67, 0.3), 0 1px 3px 1px rgba(60, 64, 67, 0.15);\n",
              "    fill: var(--button-hover-fill-color);\n",
              "  }\n",
              "\n",
              "  .colab-df-quickchart-complete:disabled,\n",
              "  .colab-df-quickchart-complete:disabled:hover {\n",
              "    background-color: var(--disabled-bg-color);\n",
              "    fill: var(--disabled-fill-color);\n",
              "    box-shadow: none;\n",
              "  }\n",
              "\n",
              "  .colab-df-spinner {\n",
              "    border: 2px solid var(--fill-color);\n",
              "    border-color: transparent;\n",
              "    border-bottom-color: var(--fill-color);\n",
              "    animation:\n",
              "      spin 1s steps(1) infinite;\n",
              "  }\n",
              "\n",
              "  @keyframes spin {\n",
              "    0% {\n",
              "      border-color: transparent;\n",
              "      border-bottom-color: var(--fill-color);\n",
              "      border-left-color: var(--fill-color);\n",
              "    }\n",
              "    20% {\n",
              "      border-color: transparent;\n",
              "      border-left-color: var(--fill-color);\n",
              "      border-top-color: var(--fill-color);\n",
              "    }\n",
              "    30% {\n",
              "      border-color: transparent;\n",
              "      border-left-color: var(--fill-color);\n",
              "      border-top-color: var(--fill-color);\n",
              "      border-right-color: var(--fill-color);\n",
              "    }\n",
              "    40% {\n",
              "      border-color: transparent;\n",
              "      border-right-color: var(--fill-color);\n",
              "      border-top-color: var(--fill-color);\n",
              "    }\n",
              "    60% {\n",
              "      border-color: transparent;\n",
              "      border-right-color: var(--fill-color);\n",
              "    }\n",
              "    80% {\n",
              "      border-color: transparent;\n",
              "      border-right-color: var(--fill-color);\n",
              "      border-bottom-color: var(--fill-color);\n",
              "    }\n",
              "    90% {\n",
              "      border-color: transparent;\n",
              "      border-bottom-color: var(--fill-color);\n",
              "    }\n",
              "  }\n",
              "</style>\n",
              "\n",
              "  <script>\n",
              "    async function quickchart(key) {\n",
              "      const quickchartButtonEl =\n",
              "        document.querySelector('#' + key + ' button');\n",
              "      quickchartButtonEl.disabled = true;  // To prevent multiple clicks.\n",
              "      quickchartButtonEl.classList.add('colab-df-spinner');\n",
              "      try {\n",
              "        const charts = await google.colab.kernel.invokeFunction(\n",
              "            'suggestCharts', [key], {});\n",
              "      } catch (error) {\n",
              "        console.error('Error during call to suggestCharts:', error);\n",
              "      }\n",
              "      quickchartButtonEl.classList.remove('colab-df-spinner');\n",
              "      quickchartButtonEl.classList.add('colab-df-quickchart-complete');\n",
              "    }\n",
              "    (() => {\n",
              "      let quickchartButtonEl =\n",
              "        document.querySelector('#df-b2f021e3-bb64-4071-ae66-c8d4c3065ddf button');\n",
              "      quickchartButtonEl.style.display =\n",
              "        google.colab.kernel.accessAllowed ? 'block' : 'none';\n",
              "    })();\n",
              "  </script>\n",
              "</div>\n",
              "\n",
              "  <div id=\"id_ad4cc376-f105-4e98-b220-d9b7700af949\">\n",
              "    <style>\n",
              "      .colab-df-generate {\n",
              "        background-color: #E8F0FE;\n",
              "        border: none;\n",
              "        border-radius: 50%;\n",
              "        cursor: pointer;\n",
              "        display: none;\n",
              "        fill: #1967D2;\n",
              "        height: 32px;\n",
              "        padding: 0 0 0 0;\n",
              "        width: 32px;\n",
              "      }\n",
              "\n",
              "      .colab-df-generate:hover {\n",
              "        background-color: #E2EBFA;\n",
              "        box-shadow: 0px 1px 2px rgba(60, 64, 67, 0.3), 0px 1px 3px 1px rgba(60, 64, 67, 0.15);\n",
              "        fill: #174EA6;\n",
              "      }\n",
              "\n",
              "      [theme=dark] .colab-df-generate {\n",
              "        background-color: #3B4455;\n",
              "        fill: #D2E3FC;\n",
              "      }\n",
              "\n",
              "      [theme=dark] .colab-df-generate:hover {\n",
              "        background-color: #434B5C;\n",
              "        box-shadow: 0px 1px 3px 1px rgba(0, 0, 0, 0.15);\n",
              "        filter: drop-shadow(0px 1px 2px rgba(0, 0, 0, 0.3));\n",
              "        fill: #FFFFFF;\n",
              "      }\n",
              "    </style>\n",
              "    <button class=\"colab-df-generate\" onclick=\"generateWithVariable('top_ten_country')\"\n",
              "            title=\"Generate code using this dataframe.\"\n",
              "            style=\"display:none;\">\n",
              "\n",
              "  <svg xmlns=\"http://www.w3.org/2000/svg\" height=\"24px\"viewBox=\"0 0 24 24\"\n",
              "       width=\"24px\">\n",
              "    <path d=\"M7,19H8.4L18.45,9,17,7.55,7,17.6ZM5,21V16.75L18.45,3.32a2,2,0,0,1,2.83,0l1.4,1.43a1.91,1.91,0,0,1,.58,1.4,1.91,1.91,0,0,1-.58,1.4L9.25,21ZM18.45,9,17,7.55Zm-12,3A5.31,5.31,0,0,0,4.9,8.1,5.31,5.31,0,0,0,1,6.5,5.31,5.31,0,0,0,4.9,4.9,5.31,5.31,0,0,0,6.5,1,5.31,5.31,0,0,0,8.1,4.9,5.31,5.31,0,0,0,12,6.5,5.46,5.46,0,0,0,6.5,12Z\"/>\n",
              "  </svg>\n",
              "    </button>\n",
              "    <script>\n",
              "      (() => {\n",
              "      const buttonEl =\n",
              "        document.querySelector('#id_ad4cc376-f105-4e98-b220-d9b7700af949 button.colab-df-generate');\n",
              "      buttonEl.style.display =\n",
              "        google.colab.kernel.accessAllowed ? 'block' : 'none';\n",
              "\n",
              "      buttonEl.onclick = () => {\n",
              "        google.colab.notebook.generateWithVariable('top_ten_country');\n",
              "      }\n",
              "      })();\n",
              "    </script>\n",
              "  </div>\n",
              "\n",
              "    </div>\n",
              "  </div>\n"
            ],
            "application/vnd.google.colaboratory.intrinsic+json": {
              "type": "dataframe",
              "variable_name": "top_ten_country",
              "summary": "{\n  \"name\": \"top_ten_country\",\n  \"rows\": 10,\n  \"fields\": [\n    {\n      \"column\": \"country\",\n      \"properties\": {\n        \"dtype\": \"string\",\n        \"samples\": [\n          \"BRA\",\n          \"GBR\",\n          \"ITA\"\n        ],\n        \"num_unique_values\": 10,\n        \"semantic_type\": \"\",\n        \"description\": \"\"\n      }\n    },\n    {\n      \"column\": \"count of guests\",\n      \"properties\": {\n        \"dtype\": \"number\",\n        \"std\": 7734,\n        \"min\": 1910,\n        \"max\": 27355,\n        \"samples\": [\n          1993,\n          10424,\n          3061\n        ],\n        \"num_unique_values\": 10,\n        \"semantic_type\": \"\",\n        \"description\": \"\"\n      }\n    }\n  ]\n}"
            }
          },
          "metadata": {},
          "execution_count": 156
        }
      ]
    },
    {
      "cell_type": "code",
      "source": [
        "# Visualizing by  plotting the graph\n",
        "plt.figure(figsize=(10,6))\n",
        "sns.barplot(x=top_ten_country['country'],y=top_ten_country['count of guests'] , palette='muted')\n",
        "plt.xlabel('Country')\n",
        "plt.ylabel('Number of guests',fontsize=12)\n",
        "plt.title(\"Top 10 countries by guests\")\n",
        "\n",
        "plt.show()"
      ],
      "metadata": {
        "colab": {
          "base_uri": "https://localhost:8080/",
          "height": 564
        },
        "id": "GsxpSlmgEAFi",
        "outputId": "08165630-7314-431e-e14d-e2298d1f747e"
      },
      "execution_count": 157,
      "outputs": [
        {
          "output_type": "display_data",
          "data": {
            "text/plain": [
              "<Figure size 1000x600 with 1 Axes>"
            ],
            "image/png": "[encoded data removed]"
          },
          "metadata": {}
        }
      ]
    },
    {
      "cell_type": "markdown",
      "source": [
        "##### 1. Why did you pick the specific chart?"
      ],
      "metadata": {
        "id": "YRJzFc6LuVnP"
      }
    },
    {
      "cell_type": "markdown",
      "source": [],
      "metadata": {
        "id": "SzTzLA64uVnP"
      }
    },
    {
      "cell_type": "markdown",
      "source": [
        "##### 2. What is/are the insight(s) found from the chart?"
      ],
      "metadata": {
        "id": "BmMoy1MjuVnP"
      }
    },
    {
      "cell_type": "markdown",
      "source": [],
      "metadata": {
        "id": "PHgmqFj_uVnP"
      }
    },
    {
      "cell_type": "markdown",
      "source": [
        "##### 3. Will the gained insights help creating a positive business impact?\n",
        "Are there any insights that lead to negative growth? Justify with specific reason."
      ],
      "metadata": {
        "id": "Mm_7TnAMuVnP"
      }
    },
    {
      "cell_type": "markdown",
      "source": [
        "Most of the guests are coming from portugal i.e more 25000 guests are from portugal\n",
        "abbrevations for countries-\n",
        "\n",
        "PRT- Portugal\n",
        "\n",
        "GBR- United Kingdom\n",
        "\n",
        "FRA- France\n",
        "\n",
        "ESP- Spain\n",
        "\n",
        "DEU - Germany\n",
        "\n",
        "ITA -Itlay\n",
        "\n",
        "IRL - Ireland\n",
        "\n",
        "BEL -Belgium\n",
        "\n",
        "BRA -Brazil\n",
        "\n",
        "NLD-Netherlands"
      ],
      "metadata": {
        "id": "th8XvmW2uVnQ"
      }
    },
    {
      "cell_type": "markdown",
      "source": [
        "### **Chart - 9**\n"
      ],
      "metadata": {
        "id": "lYwWbxsgCp98"
      }
    },
    {
      "cell_type": "markdown",
      "source": [
        "**Which distribution channel is mostly used for hotel booking?**"
      ],
      "metadata": {
        "id": "9kI6NZml_UBw"
      }
    },
    {
      "cell_type": "code",
      "source": [
        "# count of occurences of each distribution channel\n",
        "distribution_channel = hotel_booking_df['distribution_channel'].value_counts()\n",
        "distribution_channel"
      ],
      "metadata": {
        "id": "aNong9eICZS8",
        "colab": {
          "base_uri": "https://localhost:8080/"
        },
        "outputId": "7532bc36-ec2a-4595-e269-6dbc77229a2e"
      },
      "execution_count": 131,
      "outputs": [
        {
          "output_type": "execute_result",
          "data": {
            "text/plain": [
              "TA/TO        69028\n",
              "Direct       12954\n",
              "Corporate     5062\n",
              "GDS            181\n",
              "Undefined        5\n",
              "Name: distribution_channel, dtype: int64"
            ]
          },
          "metadata": {},
          "execution_count": 131
        }
      ]
    },
    {
      "cell_type": "code",
      "source": [
        "#Visualization\n",
        "plt.figure(figsize=(10,7))\n",
        "\n",
        "sns.countplot(x= hotel_booking_df['distribution_channel'],order=distribution_channel.index, palette='muted')\n",
        "plt.title(\"Mostly used distribution Channels\", fontsize = 15)\n",
        "plt.xlabel('Distribution Channel', fontsize = 15)\n",
        "plt.ylabel('Count of Booking by distribution channel ', fontsize = 15)\n",
        "plt.show()"
      ],
      "metadata": {
        "colab": {
          "base_uri": "https://localhost:8080/",
          "height": 649
        },
        "id": "MuduCnH5GhS-",
        "outputId": "56201add-c427-4606-91ef-19ac9944157d"
      },
      "execution_count": 133,
      "outputs": [
        {
          "output_type": "display_data",
          "data": {
            "text/plain": [
              "<Figure size 1000x700 with 1 Axes>"
            ],
            "image/png": "[encoded data removed]"
          },
          "metadata": {}
        }
      ]
    },
    {
      "cell_type": "markdown",
      "source": [
        "##### 1. Why did you pick the specific chart?"
      ],
      "metadata": {
        "id": "lf-Fdf1GCp9_"
      }
    },
    {
      "cell_type": "markdown",
      "source": [
        "The following chart represent maximum volume of booking done through which channel to represnt the numbers in descending order"
      ],
      "metadata": {
        "id": "t-kU__0QCp9_"
      }
    },
    {
      "cell_type": "markdown",
      "source": [
        "##### 2. What is/are the insight(s) found from the chart?"
      ],
      "metadata": {
        "id": "n8jakFQkCp9_"
      }
    },
    {
      "cell_type": "markdown",
      "source": [
        "Mostly used distribution channel is TA/TO channel.The total count of booking is 69028"
      ],
      "metadata": {
        "id": "7EZSL5cGCp9_"
      }
    },
    {
      "cell_type": "markdown",
      "source": [
        "##### 3. Will the gained insights help creating a positive business impact?\n",
        "Are there any insights that lead to negative growth? Justify with specific reason."
      ],
      "metadata": {
        "id": "WR7zuLG9Cp9_"
      }
    },
    {
      "cell_type": "markdown",
      "source": [
        "* Distribution channel TA/TO is mostly used channel this makes positive impact.\n",
        "* Distribution channel GDS and undefined is less used channels this makes negative impact.\n",
        "* Use of TA/TO is 79.13% and use of GDS is 0.21%.**\n",
        "* Other channels can provide those facilities which are provided by TA/TO channel."
      ],
      "metadata": {
        "id": "jUUptOgGCp9_"
      }
    },
    {
      "cell_type": "markdown",
      "source": [
        "#### Chart - 9"
      ],
      "metadata": {
        "id": "pHQxDzPWur8n"
      }
    },
    {
      "cell_type": "markdown",
      "source": [
        "Which year has highest number of bookings?\n"
      ],
      "metadata": {
        "id": "iBNGov0wur8u"
      }
    },
    {
      "cell_type": "code",
      "source": [
        "# set plot size\n",
        "plt.figure(figsize=(12,8))\n",
        "# plot with countplot\n",
        "sns.countplot(x=hotel_booking_df['arrival_date_year'],hue=hotel_booking_df['hotel'])\n",
        "plt.title(\"Year Wise bookings\")\n",
        "plt.show()"
      ],
      "metadata": {
        "colab": {
          "base_uri": "https://localhost:8080/",
          "height": 718
        },
        "id": "pe4ungw8ur8u",
        "outputId": "d4ddbc2c-55e4-4122-a8ed-065a1ffa45d3"
      },
      "execution_count": 45,
      "outputs": [
        {
          "output_type": "display_data",
          "data": {
            "text/plain": [
              "<Figure size 1200x800 with 1 Axes>"
            ],
            "image/png": "[encoded data removed]"
          },
          "metadata": {}
        }
      ]
    },
    {
      "cell_type": "markdown",
      "source": [
        "##### 1. Why did you pick the specific chart?"
      ],
      "metadata": {
        "id": "hSE8WDnQur8v"
      }
    },
    {
      "cell_type": "markdown",
      "source": [
        "**Because countplot is easy to understand.**"
      ],
      "metadata": {
        "id": "ZJMH0iS0ur8v"
      }
    },
    {
      "cell_type": "markdown",
      "source": [
        "##### 2. What is/are the insight(s) found from the chart?"
      ],
      "metadata": {
        "id": "0n82zdpZur8v"
      }
    },
    {
      "cell_type": "markdown",
      "source": [
        "**2016 had highest bookings and 2015 had lowest bookings.**"
      ],
      "metadata": {
        "id": "oEhdqo7lur8v"
      }
    },
    {
      "cell_type": "markdown",
      "source": [
        "##### 3. Will the gained insights help creating a positive business impact?\n",
        "Are there any insights that lead to negative growth? Justify with specific reason."
      ],
      "metadata": {
        "id": "WZ-95vnMur8v"
      }
    },
    {
      "cell_type": "markdown",
      "source": [
        "**Year 2016 had highest bookings this makes positive impact.\n",
        "Year 2015 had lowest bookings this makes negative impact.\n",
        "In 2016 there were 42313 bookings and In 2015 there were 13284 bookings**"
      ],
      "metadata": {
        "id": "_U0yM7zZur8v"
      }
    },
    {
      "cell_type": "markdown",
      "metadata": {
        "id": "U2RJ9gkRphqQ"
      },
      "source": [
        "#### Chart - 10"
      ]
    },
    {
      "cell_type": "code",
      "execution_count": null,
      "metadata": {
        "id": "GM7a4YP4phqQ"
      },
      "outputs": [],
      "source": [
        "# Chart - 10 visualization code"
      ]
    },
    {
      "cell_type": "markdown",
      "metadata": {
        "id": "1M8mcRywphqQ"
      },
      "source": [
        "##### 1. Why did you pick the specific chart?"
      ]
    },
    {
      "cell_type": "markdown",
      "metadata": {
        "id": "8agQvks0phqQ"
      },
      "source": [
        "Answer Here."
      ]
    },
    {
      "cell_type": "markdown",
      "metadata": {
        "id": "tgIPom80phqQ"
      },
      "source": [
        "##### 2. What is/are the insight(s) found from the chart?"
      ]
    },
    {
      "cell_type": "markdown",
      "metadata": {
        "id": "Qp13pnNzphqQ"
      },
      "source": [
        "Answer Here"
      ]
    },
    {
      "cell_type": "markdown",
      "metadata": {
        "id": "JMzcOPDDphqR"
      },
      "source": [
        "##### 3. Will the gained insights help creating a positive business impact?\n",
        "Are there any insights that lead to negative growth? Justify with specific reason."
      ]
    },
    {
      "cell_type": "markdown",
      "metadata": {
        "id": "R4Ka1PC2phqR"
      },
      "source": [
        "Answer Here"
      ]
    },
    {
      "cell_type": "markdown",
      "metadata": {
        "id": "x-EpHcCOp1ci"
      },
      "source": [
        "#### Chart - 11"
      ]
    },
    {
      "cell_type": "code",
      "execution_count": null,
      "metadata": {
        "id": "mAQTIvtqp1cj"
      },
      "outputs": [],
      "source": [
        "# Chart - 11 visualization code"
      ]
    },
    {
      "cell_type": "markdown",
      "metadata": {
        "id": "X_VqEhTip1ck"
      },
      "source": [
        "##### 1. Why did you pick the specific chart?"
      ]
    },
    {
      "cell_type": "markdown",
      "metadata": {
        "id": "-vsMzt_np1ck"
      },
      "source": [
        "Answer Here."
      ]
    },
    {
      "cell_type": "markdown",
      "metadata": {
        "id": "8zGJKyg5p1ck"
      },
      "source": [
        "##### 2. What is/are the insight(s) found from the chart?"
      ]
    },
    {
      "cell_type": "markdown",
      "metadata": {
        "id": "ZYdMsrqVp1ck"
      },
      "source": [
        "Answer Here"
      ]
    },
    {
      "cell_type": "markdown",
      "metadata": {
        "id": "PVzmfK_Ep1ck"
      },
      "source": [
        "##### 3. Will the gained insights help creating a positive business impact?\n",
        "Are there any insights that lead to negative growth? Justify with specific reason."
      ]
    },
    {
      "cell_type": "markdown",
      "metadata": {
        "id": "druuKYZpp1ck"
      },
      "source": [
        "Answer Here"
      ]
    },
    {
      "cell_type": "markdown",
      "metadata": {
        "id": "n3dbpmDWp1ck"
      },
      "source": [
        "#### Chart - 12"
      ]
    },
    {
      "cell_type": "code",
      "execution_count": null,
      "metadata": {
        "id": "bwevp1tKp1ck"
      },
      "outputs": [],
      "source": [
        "# Chart - 12 visualization code"
      ]
    },
    {
      "cell_type": "markdown",
      "metadata": {
        "id": "ylSl6qgtp1ck"
      },
      "source": [
        "##### 1. Why did you pick the specific chart?"
      ]
    },
    {
      "cell_type": "markdown",
      "metadata": {
        "id": "m2xqNkiQp1ck"
      },
      "source": [
        "Answer Here."
      ]
    },
    {
      "cell_type": "markdown",
      "metadata": {
        "id": "ZWILFDl5p1ck"
      },
      "source": [
        "##### 2. What is/are the insight(s) found from the chart?"
      ]
    },
    {
      "cell_type": "markdown",
      "metadata": {
        "id": "x-lUsV2mp1ck"
      },
      "source": [
        "Answer Here"
      ]
    },
    {
      "cell_type": "markdown",
      "metadata": {
        "id": "M7G43BXep1ck"
      },
      "source": [
        "##### 3. Will the gained insights help creating a positive business impact?\n",
        "Are there any insights that lead to negative growth? Justify with specific reason."
      ]
    },
    {
      "cell_type": "markdown",
      "metadata": {
        "id": "5wwDJXsLp1cl"
      },
      "source": [
        "Answer Here"
      ]
    },
    {
      "cell_type": "markdown",
      "source": [],
      "metadata": {
        "id": "yU0kUmCvue3y"
      }
    }
  ]
}